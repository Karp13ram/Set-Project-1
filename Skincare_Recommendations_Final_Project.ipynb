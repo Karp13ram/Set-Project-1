{
 "cells": [
  {
   "cell_type": "markdown",
   "metadata": {},
   "source": [
    "# Skincare Recommendations\n",
    "\n",
    "For the final project I decided to build a recommendation system. I have worked with **Sephora** website before, both as a data scientist and as a regular customer, so I am familiar with the structure of their data and posess some domain knowledge. As far as I know, at the moment Sephora doesn't have a sophisticated recommender: they allow users to filter products based on the notes from the manufacturer. For example, a user can go to the ['beauty quiz'](https://www.sephora.com/beauty/foundation-finder) page, select one of the options (foundation, toner, moisturizer, etc.), specify some details, and get filtered results. However, there is no ingredient analysis behind this algorithm, and no user feature analysis. \n",
    "\n",
    "I had many ideas about building a skincare recommendation system. One of them was to analyze **user features**: skin tone, skin type, eye color, and hair color. This is as close as I could get to genetical analysis. Another idea was to use several **NLP** techniques to understand the chemistry of skincare products. I do not have a background in biochemistry, but these techniques would allow me to detect products that have similar ingedients and recommend those to the users who already like one sister-product, but haven't tried another.\n",
    "\n",
    "After days of exploration I ended up with **three models**: one that recommends products **based on user feature similarity** (if one user shares skin type, tone, eye color, hair color, with another user, there is a chance they will enjoy same products), one that gives **content-based recommendations** (cosine similarity between the chemical compositions of the products), and one **hybrid model**. The last one is best for business use: customer service represintatives can type in a unique user id and get a list of products recommended to that user, which, for example, can be emailed to that customer. \n",
    "\n",
    "All three models can be found in a **Dash web app** that I wrote as a final touch.\n",
    "\n",
    "**A note on data acquisition and feature engineering**: I scraped Sephora.com using selenium webdriver and got two dataframes: user data and product data. They were merged together on unique user id, cleaned, which resulted in a big dataframe with the following columns: 'Username', 'Skin_Tone', 'Skin_Type', 'Eye_Color', 'Hair_Color','Rating_Stars', 'Review', 'Product', 'Brand', 'Price', 'Rating','Ingredients', 'Combination', 'Dry', 'Normal', 'Oily', 'Sensitive','Category', 'Product_Url', 'User_id', 'Product_id','Ingredients_Cleaned', 'Review_Cleaned', 'Good_Stuff', 'Ing_Tfidf'."
   ]
  },
  {
   "cell_type": "markdown",
   "metadata": {},
   "source": [
    "<img src='https://assets.vogue.in/photos/5ce425024a30b34f3112cab9/master/pass/These-are-the-skincare-ingredients-you-should-look-for-by-your-skin-type.jpg' width=1000/>"
   ]
  },
  {
   "cell_type": "code",
   "execution_count": 8,
   "metadata": {},
   "outputs": [
    {
     "name": "stderr",
     "output_type": "stream",
     "text": [
      "[nltk_data] Error loading stopwords: <urlopen error [WinError 10054]\n",
      "[nltk_data]     An existing connection was forcibly closed by the\n",
      "[nltk_data]     remote host>\n",
      "[nltk_data] Error loading punkt: <urlopen error [WinError 10054] An\n",
      "[nltk_data]     existing connection was forcibly closed by the remote\n",
      "[nltk_data]     host>\n",
      "[nltk_data] Error loading wordnet: <urlopen error [WinError 10054] An\n",
      "[nltk_data]     existing connection was forcibly closed by the remote\n",
      "[nltk_data]     host>\n"
     ]
    },
    {
     "data": {
      "text/plain": [
       "False"
      ]
     },
     "execution_count": 8,
     "metadata": {},
     "output_type": "execute_result"
    }
   ],
   "source": [
    "import pandas as pd\n",
    "import numpy as np\n",
    "import re\n",
    "import matplotlib.pyplot as plt\n",
    "%matplotlib inline\n",
    "import nltk\n",
    "from sklearn.feature_extraction.text import CountVectorizer\n",
    "from sklearn.feature_extraction.text import TfidfVectorizer\n",
    "from sklearn.feature_extraction.text import TfidfTransformer\n",
    "from nltk.probability import FreqDist\n",
    "from nltk.corpus import stopwords\n",
    "from nltk.stem import PorterStemmer\n",
    "from sklearn import metrics\n",
    "from sklearn.model_selection import train_test_split\n",
    "from matplotlib import cm\n",
    "import numpy as np\n",
    "from sklearn.ensemble import RandomForestClassifier\n",
    "from sklearn.metrics import accuracy_score\n",
    "from sklearn.metrics import f1_score\n",
    "from nltk.tokenize import RegexpTokenizer\n",
    "from nltk.stem import WordNetLemmatizer \n",
    "\n",
    "from sklearn.metrics.pairwise import cosine_similarity\n",
    "\n",
    "from bokeh.io import show, curdoc, output_notebook, push_notebook\n",
    "from bokeh.plotting import figure\n",
    "from bokeh.models import ColumnDataSource, HoverTool, Select, Paragraph, TextInput\n",
    "# from bokeh.layouts import widgetbox, column, row\n",
    "from bokeh.layouts import column, row\n",
    "from ipywidgets import interact\n",
    "\n",
    "\n",
    "from nltk.probability import FreqDist\n",
    "from nltk.corpus import stopwords\n",
    "from nltk.stem import PorterStemmer\n",
    "from sklearn import metrics\n",
    "from sklearn.model_selection import train_test_split\n",
    "from matplotlib import cm\n",
    "\n",
    "from sklearn.ensemble import RandomForestClassifier\n",
    "from sklearn.metrics import accuracy_score\n",
    "from sklearn.metrics import f1_score\n",
    "from nltk.tokenize import RegexpTokenizer\n",
    "from nltk.stem import WordNetLemmatizer \n",
    "\n",
    "import markovify\n",
    "import string\n",
    "\n",
    "from os import path\n",
    "from PIL import Image\n",
    "from wordcloud import WordCloud, STOPWORDS, ImageColorGenerator\n",
    "\n",
    "\n",
    "from sklearn.pipeline import Pipeline\n",
    "\n",
    "from sklearn.naive_bayes import MultinomialNB\n",
    "from sklearn.linear_model import SGDClassifier\n",
    "from sklearn.linear_model import LogisticRegression\n",
    "\n",
    "import warnings; warnings.simplefilter('ignore')\n",
    "nltk.download('stopwords')\n",
    "nltk.download('punkt')\n",
    "nltk.download('wordnet')"
   ]
  },
  {
   "cell_type": "code",
   "execution_count": 9,
   "metadata": {},
   "outputs": [],
   "source": [
    "from sklearn.metrics import classification_report"
   ]
  },
  {
   "cell_type": "code",
   "execution_count": 2,
   "metadata": {},
   "outputs": [
    {
     "ename": "NameError",
     "evalue": "name 'pd' is not defined",
     "output_type": "error",
     "traceback": [
      "\u001b[1;31m---------------------------------------------------------------------------\u001b[0m",
      "\u001b[1;31mNameError\u001b[0m                                 Traceback (most recent call last)",
      "\u001b[1;32m<ipython-input-2-838f07e687cb>\u001b[0m in \u001b[0;36m<module>\u001b[1;34m\u001b[0m\n\u001b[1;32m----> 1\u001b[1;33m \u001b[0mdf\u001b[0m \u001b[1;33m=\u001b[0m \u001b[0mpd\u001b[0m\u001b[1;33m.\u001b[0m\u001b[0mread_csv\u001b[0m\u001b[1;33m(\u001b[0m\u001b[1;34m'skindataall.csv'\u001b[0m\u001b[1;33m,\u001b[0m \u001b[0mindex_col\u001b[0m\u001b[1;33m=\u001b[0m\u001b[1;33m[\u001b[0m\u001b[1;36m0\u001b[0m\u001b[1;33m]\u001b[0m\u001b[1;33m)\u001b[0m\u001b[1;33m\u001b[0m\u001b[1;33m\u001b[0m\u001b[0m\n\u001b[0m",
      "\u001b[1;31mNameError\u001b[0m: name 'pd' is not defined"
     ]
    }
   ],
   "source": [
    "df = pd.read_csv('skindataall.csv', index_col=[0])"
   ]
  },
  {
   "cell_type": "code",
   "execution_count": 3,
   "metadata": {},
   "outputs": [
    {
     "ename": "NameError",
     "evalue": "name 'df' is not defined",
     "output_type": "error",
     "traceback": [
      "\u001b[1;31m---------------------------------------------------------------------------\u001b[0m",
      "\u001b[1;31mNameError\u001b[0m                                 Traceback (most recent call last)",
      "\u001b[1;32m<ipython-input-3-c42a15b2c7cf>\u001b[0m in \u001b[0;36m<module>\u001b[1;34m\u001b[0m\n\u001b[1;32m----> 1\u001b[1;33m \u001b[0mdf\u001b[0m\u001b[1;33m.\u001b[0m\u001b[0mhead\u001b[0m\u001b[1;33m(\u001b[0m\u001b[1;33m)\u001b[0m\u001b[1;33m\u001b[0m\u001b[1;33m\u001b[0m\u001b[0m\n\u001b[0m",
      "\u001b[1;31mNameError\u001b[0m: name 'df' is not defined"
     ]
    }
   ],
   "source": [
    "df.head()"
   ]
  },
  {
   "cell_type": "markdown",
   "metadata": {},
   "source": [
    "# EDA and Data Visualizations"
   ]
  },
  {
   "cell_type": "code",
   "execution_count": 4,
   "metadata": {},
   "outputs": [
    {
     "ename": "NameError",
     "evalue": "name 'df' is not defined",
     "output_type": "error",
     "traceback": [
      "\u001b[1;31m---------------------------------------------------------------------------\u001b[0m",
      "\u001b[1;31mNameError\u001b[0m                                 Traceback (most recent call last)",
      "\u001b[1;32m<ipython-input-4-f393aebd5c72>\u001b[0m in \u001b[0;36m<module>\u001b[1;34m\u001b[0m\n\u001b[1;32m----> 1\u001b[1;33m \u001b[0mskintone_stats\u001b[0m \u001b[1;33m=\u001b[0m \u001b[0mdf\u001b[0m\u001b[1;33m.\u001b[0m\u001b[0mgroupby\u001b[0m\u001b[1;33m(\u001b[0m\u001b[1;34m'Skin_Tone'\u001b[0m\u001b[1;33m)\u001b[0m\u001b[1;33m[\u001b[0m\u001b[1;34m'Username'\u001b[0m\u001b[1;33m]\u001b[0m\u001b[1;33m.\u001b[0m\u001b[0mcount\u001b[0m\u001b[1;33m(\u001b[0m\u001b[1;33m)\u001b[0m\u001b[1;33m\u001b[0m\u001b[1;33m\u001b[0m\u001b[0m\n\u001b[0m\u001b[0;32m      2\u001b[0m \u001b[0mskintone_stats\u001b[0m\u001b[1;33m.\u001b[0m\u001b[0mplot\u001b[0m\u001b[1;33m.\u001b[0m\u001b[0mbar\u001b[0m\u001b[1;33m(\u001b[0m\u001b[0mcolor\u001b[0m \u001b[1;33m=\u001b[0m \u001b[1;34m'brown'\u001b[0m\u001b[1;33m,\u001b[0m \u001b[0mrot\u001b[0m\u001b[1;33m=\u001b[0m\u001b[1;36m45\u001b[0m\u001b[1;33m)\u001b[0m\u001b[1;33m\u001b[0m\u001b[1;33m\u001b[0m\u001b[0m\n",
      "\u001b[1;31mNameError\u001b[0m: name 'df' is not defined"
     ]
    }
   ],
   "source": [
    "skintone_stats = df.groupby('Skin_Tone')['Username'].count()\n",
    "skintone_stats.plot.bar(color = 'brown', rot=45)"
   ]
  },
  {
   "cell_type": "code",
   "execution_count": 5,
   "metadata": {},
   "outputs": [
    {
     "ename": "NameError",
     "evalue": "name 'df' is not defined",
     "output_type": "error",
     "traceback": [
      "\u001b[1;31m---------------------------------------------------------------------------\u001b[0m",
      "\u001b[1;31mNameError\u001b[0m                                 Traceback (most recent call last)",
      "\u001b[1;32m<ipython-input-5-698e0bf6db30>\u001b[0m in \u001b[0;36m<module>\u001b[1;34m\u001b[0m\n\u001b[1;32m----> 1\u001b[1;33m \u001b[0mskintype_stats\u001b[0m \u001b[1;33m=\u001b[0m \u001b[0mdf\u001b[0m\u001b[1;33m.\u001b[0m\u001b[0mgroupby\u001b[0m\u001b[1;33m(\u001b[0m\u001b[1;34m'Skin_Type'\u001b[0m\u001b[1;33m)\u001b[0m\u001b[1;33m[\u001b[0m\u001b[1;34m'Username'\u001b[0m\u001b[1;33m]\u001b[0m\u001b[1;33m.\u001b[0m\u001b[0mcount\u001b[0m\u001b[1;33m(\u001b[0m\u001b[1;33m)\u001b[0m\u001b[1;33m\u001b[0m\u001b[1;33m\u001b[0m\u001b[0m\n\u001b[0m\u001b[0;32m      2\u001b[0m \u001b[0mskintype_stats\u001b[0m\u001b[1;33m.\u001b[0m\u001b[0mplot\u001b[0m\u001b[1;33m.\u001b[0m\u001b[0mbar\u001b[0m\u001b[1;33m(\u001b[0m\u001b[0mcolor\u001b[0m \u001b[1;33m=\u001b[0m \u001b[1;34m'darkgreen'\u001b[0m\u001b[1;33m,\u001b[0m \u001b[0mrot\u001b[0m\u001b[1;33m=\u001b[0m\u001b[1;36m45\u001b[0m\u001b[1;33m)\u001b[0m\u001b[1;33m\u001b[0m\u001b[1;33m\u001b[0m\u001b[0m\n",
      "\u001b[1;31mNameError\u001b[0m: name 'df' is not defined"
     ]
    }
   ],
   "source": [
    "skintype_stats = df.groupby('Skin_Type')['Username'].count()\n",
    "skintype_stats.plot.bar(color = 'darkgreen', rot=45)"
   ]
  },
  {
   "cell_type": "code",
   "execution_count": null,
   "metadata": {},
   "outputs": [
    {
     "data": {
      "text/plain": [
       "<AxesSubplot:xlabel='Eye_Color'>"
      ]
     },
     "execution_count": 7,
     "metadata": {},
     "output_type": "execute_result"
    },
    {
     "data": {
      "image/png": "[encoded data removed]",
      "text/plain": [
       "<Figure size 432x288 with 1 Axes>"
      ]
     },
     "metadata": {
      "needs_background": "light"
     },
     "output_type": "display_data"
    }
   ],
   "source": [
    "eyecolor_stats = df.groupby('Eye_Color')['Username'].count()\n",
    "eyecolor_stats.plot.bar(color = 'darkblue', rot=45)"
   ]
  },
  {
   "cell_type": "code",
   "execution_count": 6,
   "metadata": {},
   "outputs": [
    {
     "ename": "NameError",
     "evalue": "name 'df' is not defined",
     "output_type": "error",
     "traceback": [
      "\u001b[1;31m---------------------------------------------------------------------------\u001b[0m",
      "\u001b[1;31mNameError\u001b[0m                                 Traceback (most recent call last)",
      "\u001b[1;32m<ipython-input-6-88c9d6464368>\u001b[0m in \u001b[0;36m<module>\u001b[1;34m\u001b[0m\n\u001b[1;32m----> 1\u001b[1;33m \u001b[0mhaircolor_stats\u001b[0m \u001b[1;33m=\u001b[0m \u001b[0mdf\u001b[0m\u001b[1;33m.\u001b[0m\u001b[0mgroupby\u001b[0m\u001b[1;33m(\u001b[0m\u001b[1;34m'Hair_Color'\u001b[0m\u001b[1;33m)\u001b[0m\u001b[1;33m[\u001b[0m\u001b[1;34m'Username'\u001b[0m\u001b[1;33m]\u001b[0m\u001b[1;33m.\u001b[0m\u001b[0mcount\u001b[0m\u001b[1;33m(\u001b[0m\u001b[1;33m)\u001b[0m\u001b[1;33m\u001b[0m\u001b[1;33m\u001b[0m\u001b[0m\n\u001b[0m\u001b[0;32m      2\u001b[0m \u001b[0mhaircolor_stats\u001b[0m\u001b[1;33m.\u001b[0m\u001b[0mplot\u001b[0m\u001b[1;33m.\u001b[0m\u001b[0mbar\u001b[0m\u001b[1;33m(\u001b[0m\u001b[0mcolor\u001b[0m \u001b[1;33m=\u001b[0m \u001b[1;34m'red'\u001b[0m\u001b[1;33m,\u001b[0m \u001b[0mrot\u001b[0m\u001b[1;33m=\u001b[0m\u001b[1;36m45\u001b[0m\u001b[1;33m)\u001b[0m\u001b[1;33m\u001b[0m\u001b[1;33m\u001b[0m\u001b[0m\n",
      "\u001b[1;31mNameError\u001b[0m: name 'df' is not defined"
     ]
    }
   ],
   "source": [
    "haircolor_stats = df.groupby('Hair_Color')['Username'].count()\n",
    "haircolor_stats.plot.bar(color = 'red', rot=45)"
   ]
  },
  {
   "cell_type": "code",
   "execution_count": 7,
   "metadata": {},
   "outputs": [
    {
     "ename": "NameError",
     "evalue": "name 'df' is not defined",
     "output_type": "error",
     "traceback": [
      "\u001b[1;31m---------------------------------------------------------------------------\u001b[0m",
      "\u001b[1;31mNameError\u001b[0m                                 Traceback (most recent call last)",
      "\u001b[1;32m<ipython-input-7-9ded78f9c716>\u001b[0m in \u001b[0;36m<module>\u001b[1;34m\u001b[0m\n\u001b[1;32m----> 1\u001b[1;33m \u001b[0mrating_stats\u001b[0m \u001b[1;33m=\u001b[0m \u001b[0mdf\u001b[0m\u001b[1;33m.\u001b[0m\u001b[0mgroupby\u001b[0m\u001b[1;33m(\u001b[0m\u001b[1;34m'Rating_Stars'\u001b[0m\u001b[1;33m)\u001b[0m\u001b[1;33m[\u001b[0m\u001b[1;34m'Username'\u001b[0m\u001b[1;33m]\u001b[0m\u001b[1;33m.\u001b[0m\u001b[0mcount\u001b[0m\u001b[1;33m(\u001b[0m\u001b[1;33m)\u001b[0m\u001b[1;33m\u001b[0m\u001b[1;33m\u001b[0m\u001b[0m\n\u001b[0m\u001b[0;32m      2\u001b[0m \u001b[0mrating_stats\u001b[0m\u001b[1;33m.\u001b[0m\u001b[0mplot\u001b[0m\u001b[1;33m.\u001b[0m\u001b[0mbar\u001b[0m\u001b[1;33m(\u001b[0m\u001b[0mcolor\u001b[0m \u001b[1;33m=\u001b[0m \u001b[1;34m'black'\u001b[0m\u001b[1;33m)\u001b[0m\u001b[1;33m\u001b[0m\u001b[1;33m\u001b[0m\u001b[0m\n",
      "\u001b[1;31mNameError\u001b[0m: name 'df' is not defined"
     ]
    }
   ],
   "source": [
    "rating_stats = df.groupby('Rating_Stars')['Username'].count()\n",
    "rating_stats.plot.bar(color = 'black')"
   ]
  },
  {
   "cell_type": "markdown",
   "metadata": {},
   "source": [
    "As we can see on the graph above, the ratings are unevenly distributed. One may expect to see more balanced ratings, or more 1-star reviews, but in reality, 5-star is a dominant class. This means that Sephora customers mostly write reviews when they are happy with the product. This may cause some problems in building a recommendation system, so the threshold should be 'greater than 4' and '4 or less'. We only want to recommend products that a user will rate with 5 stars."
   ]
  },
  {
   "cell_type": "markdown",
   "metadata": {},
   "source": [
    "# Just for fun: Markov Chain neural net for language generator"
   ]
  },
  {
   "cell_type": "code",
   "execution_count": 10,
   "metadata": {},
   "outputs": [],
   "source": [
    "import markovify\n",
    "import string"
   ]
  },
  {
   "cell_type": "code",
   "execution_count": 11,
   "metadata": {},
   "outputs": [],
   "source": [
    "def no_punct(string):\n",
    "    no_punct_string = re.sub(r'[^\\w\\s]', '', string)\n",
    "    return no_punct_string"
   ]
  },
  {
   "cell_type": "code",
   "execution_count": 12,
   "metadata": {},
   "outputs": [],
   "source": [
    "df['Review'] = df.apply(lambda row: no_punct(row['Review']), axis=1)"
   ]
  },
  {
   "cell_type": "code",
   "execution_count": 13,
   "metadata": {},
   "outputs": [],
   "source": [
    "text_model = markovify.NewlineText(df.Review, state_size = 2)"
   ]
  },
  {
   "cell_type": "code",
   "execution_count": 14,
   "metadata": {},
   "outputs": [
    {
     "name": "stdout",
     "output_type": "stream",
     "text": [
      "I will continue to buy the full size nearly a week now when Im done with my reusable facial rounds and my skin looks brighter and my skin I tried over makeup and it never lets me down\n",
      "I love it Botox in a container so that area as well This is my favorite\n",
      "Omg the smell of this before getting the moisturizer Its worth it\n"
     ]
    }
   ],
   "source": [
    "for i in range(3):\n",
    "    print(text_model.make_sentence())"
   ]
  },
  {
   "cell_type": "markdown",
   "metadata": {},
   "source": [
    "# NLP: wordclouds and classification"
   ]
  },
  {
   "cell_type": "code",
   "execution_count": 15,
   "metadata": {},
   "outputs": [],
   "source": [
    "from os import path\n",
    "from PIL import Image\n",
    "from wordcloud import WordCloud, STOPWORDS, ImageColorGenerator"
   ]
  },
  {
   "cell_type": "code",
   "execution_count": 16,
   "metadata": {},
   "outputs": [],
   "source": [
    "negative_df = df[df.Rating_Stars <= 4]\n",
    "positive_df = df[df.Rating_Stars > 4]\n",
    "negative = \" \".join(review for review in negative_df.Review)\n",
    "positive = \" \".join(review for review in positive_df.Review)"
   ]
  },
  {
   "cell_type": "code",
   "execution_count": 17,
   "metadata": {},
   "outputs": [],
   "source": [
    "stopwords = set(STOPWORDS)\n",
    "stopwords.update(['read', 'more', 'product'])"
   ]
  },
  {
   "cell_type": "code",
   "execution_count": 18,
   "metadata": {},
   "outputs": [],
   "source": [
    "def generate_wordcloud(data):\n",
    "    wordcloud = WordCloud(stopwords=stopwords, background_color=\"white\").generate(data)\n",
    "\n",
    "    plt.imshow(wordcloud, interpolation='bilinear')\n",
    "    plt.axis(\"off\")\n",
    "    plt.show()"
   ]
  },
  {
   "cell_type": "code",
   "execution_count": 19,
   "metadata": {},
   "outputs": [
    {
     "name": "stdout",
     "output_type": "stream",
     "text": [
      "Note: you may need to restart the kernel to use updated packages.\n"
     ]
    },
    {
     "name": "stderr",
     "output_type": "stream",
     "text": [
      "'c:\\Program' is not recognized as an internal or external command,\n",
      "operable program or batch file.\n"
     ]
    }
   ],
   "source": [
    "pip install --upgrade pip"
   ]
  },
  {
   "cell_type": "code",
   "execution_count": 20,
   "metadata": {},
   "outputs": [
    {
     "name": "stdout",
     "output_type": "stream",
     "text": [
      "Note: you may need to restart the kernel to use updated packages.\n"
     ]
    },
    {
     "name": "stderr",
     "output_type": "stream",
     "text": [
      "'c:\\Program' is not recognized as an internal or external command,\n",
      "operable program or batch file.\n"
     ]
    }
   ],
   "source": [
    "pip install --upgrade pillow"
   ]
  },
  {
   "cell_type": "code",
   "execution_count": 21,
   "metadata": {},
   "outputs": [
    {
     "ename": "ValueError",
     "evalue": "Only supported for TrueType fonts",
     "output_type": "error",
     "traceback": [
      "\u001b[1;31m---------------------------------------------------------------------------\u001b[0m",
      "\u001b[1;31mValueError\u001b[0m                                Traceback (most recent call last)",
      "\u001b[1;32m<ipython-input-21-9348a0da4e99>\u001b[0m in \u001b[0;36m<module>\u001b[1;34m\u001b[0m\n\u001b[1;32m----> 1\u001b[1;33m \u001b[0mgenerate_wordcloud\u001b[0m\u001b[1;33m(\u001b[0m\u001b[0mnegative\u001b[0m\u001b[1;33m)\u001b[0m\u001b[1;33m\u001b[0m\u001b[1;33m\u001b[0m\u001b[0m\n\u001b[0m",
      "\u001b[1;32m<ipython-input-18-c04eb2501d1c>\u001b[0m in \u001b[0;36mgenerate_wordcloud\u001b[1;34m(data)\u001b[0m\n\u001b[0;32m      1\u001b[0m \u001b[1;32mdef\u001b[0m \u001b[0mgenerate_wordcloud\u001b[0m\u001b[1;33m(\u001b[0m\u001b[0mdata\u001b[0m\u001b[1;33m)\u001b[0m\u001b[1;33m:\u001b[0m\u001b[1;33m\u001b[0m\u001b[1;33m\u001b[0m\u001b[0m\n\u001b[1;32m----> 2\u001b[1;33m     \u001b[0mwordcloud\u001b[0m \u001b[1;33m=\u001b[0m \u001b[0mWordCloud\u001b[0m\u001b[1;33m(\u001b[0m\u001b[0mstopwords\u001b[0m\u001b[1;33m=\u001b[0m\u001b[0mstopwords\u001b[0m\u001b[1;33m,\u001b[0m \u001b[0mbackground_color\u001b[0m\u001b[1;33m=\u001b[0m\u001b[1;34m\"white\"\u001b[0m\u001b[1;33m)\u001b[0m\u001b[1;33m.\u001b[0m\u001b[0mgenerate\u001b[0m\u001b[1;33m(\u001b[0m\u001b[0mdata\u001b[0m\u001b[1;33m)\u001b[0m\u001b[1;33m\u001b[0m\u001b[1;33m\u001b[0m\u001b[0m\n\u001b[0m\u001b[0;32m      3\u001b[0m \u001b[1;33m\u001b[0m\u001b[0m\n\u001b[0;32m      4\u001b[0m     \u001b[0mplt\u001b[0m\u001b[1;33m.\u001b[0m\u001b[0mimshow\u001b[0m\u001b[1;33m(\u001b[0m\u001b[0mwordcloud\u001b[0m\u001b[1;33m,\u001b[0m \u001b[0minterpolation\u001b[0m\u001b[1;33m=\u001b[0m\u001b[1;34m'bilinear'\u001b[0m\u001b[1;33m)\u001b[0m\u001b[1;33m\u001b[0m\u001b[1;33m\u001b[0m\u001b[0m\n\u001b[0;32m      5\u001b[0m     \u001b[0mplt\u001b[0m\u001b[1;33m.\u001b[0m\u001b[0maxis\u001b[0m\u001b[1;33m(\u001b[0m\u001b[1;34m\"off\"\u001b[0m\u001b[1;33m)\u001b[0m\u001b[1;33m\u001b[0m\u001b[1;33m\u001b[0m\u001b[0m\n",
      "\u001b[1;32m~\\AppData\\Roaming\\Python\\Python36\\site-packages\\wordcloud\\wordcloud.py\u001b[0m in \u001b[0;36mgenerate\u001b[1;34m(self, text)\u001b[0m\n\u001b[0;32m    637\u001b[0m         \u001b[0mself\u001b[0m\u001b[1;33m\u001b[0m\u001b[1;33m\u001b[0m\u001b[0m\n\u001b[0;32m    638\u001b[0m         \"\"\"\n\u001b[1;32m--> 639\u001b[1;33m         \u001b[1;32mreturn\u001b[0m \u001b[0mself\u001b[0m\u001b[1;33m.\u001b[0m\u001b[0mgenerate_from_text\u001b[0m\u001b[1;33m(\u001b[0m\u001b[0mtext\u001b[0m\u001b[1;33m)\u001b[0m\u001b[1;33m\u001b[0m\u001b[1;33m\u001b[0m\u001b[0m\n\u001b[0m\u001b[0;32m    640\u001b[0m \u001b[1;33m\u001b[0m\u001b[0m\n\u001b[0;32m    641\u001b[0m     \u001b[1;32mdef\u001b[0m \u001b[0m_check_generated\u001b[0m\u001b[1;33m(\u001b[0m\u001b[0mself\u001b[0m\u001b[1;33m)\u001b[0m\u001b[1;33m:\u001b[0m\u001b[1;33m\u001b[0m\u001b[1;33m\u001b[0m\u001b[0m\n",
      "\u001b[1;32m~\\AppData\\Roaming\\Python\\Python36\\site-packages\\wordcloud\\wordcloud.py\u001b[0m in \u001b[0;36mgenerate_from_text\u001b[1;34m(self, text)\u001b[0m\n\u001b[0;32m    619\u001b[0m         \"\"\"\n\u001b[0;32m    620\u001b[0m         \u001b[0mwords\u001b[0m \u001b[1;33m=\u001b[0m \u001b[0mself\u001b[0m\u001b[1;33m.\u001b[0m\u001b[0mprocess_text\u001b[0m\u001b[1;33m(\u001b[0m\u001b[0mtext\u001b[0m\u001b[1;33m)\u001b[0m\u001b[1;33m\u001b[0m\u001b[1;33m\u001b[0m\u001b[0m\n\u001b[1;32m--> 621\u001b[1;33m         \u001b[0mself\u001b[0m\u001b[1;33m.\u001b[0m\u001b[0mgenerate_from_frequencies\u001b[0m\u001b[1;33m(\u001b[0m\u001b[0mwords\u001b[0m\u001b[1;33m)\u001b[0m\u001b[1;33m\u001b[0m\u001b[1;33m\u001b[0m\u001b[0m\n\u001b[0m\u001b[0;32m    622\u001b[0m         \u001b[1;32mreturn\u001b[0m \u001b[0mself\u001b[0m\u001b[1;33m\u001b[0m\u001b[1;33m\u001b[0m\u001b[0m\n\u001b[0;32m    623\u001b[0m \u001b[1;33m\u001b[0m\u001b[0m\n",
      "\u001b[1;32m~\\AppData\\Roaming\\Python\\Python36\\site-packages\\wordcloud\\wordcloud.py\u001b[0m in \u001b[0;36mgenerate_from_frequencies\u001b[1;34m(self, frequencies, max_font_size)\u001b[0m\n\u001b[0;32m    452\u001b[0m             \u001b[1;32melse\u001b[0m\u001b[1;33m:\u001b[0m\u001b[1;33m\u001b[0m\u001b[1;33m\u001b[0m\u001b[0m\n\u001b[0;32m    453\u001b[0m                 self.generate_from_frequencies(dict(frequencies[:2]),\n\u001b[1;32m--> 454\u001b[1;33m                                                max_font_size=self.height)\n\u001b[0m\u001b[0;32m    455\u001b[0m                 \u001b[1;31m# find font sizes\u001b[0m\u001b[1;33m\u001b[0m\u001b[1;33m\u001b[0m\u001b[1;33m\u001b[0m\u001b[0m\n\u001b[0;32m    456\u001b[0m                 \u001b[0msizes\u001b[0m \u001b[1;33m=\u001b[0m \u001b[1;33m[\u001b[0m\u001b[0mx\u001b[0m\u001b[1;33m[\u001b[0m\u001b[1;36m1\u001b[0m\u001b[1;33m]\u001b[0m \u001b[1;32mfor\u001b[0m \u001b[0mx\u001b[0m \u001b[1;32min\u001b[0m \u001b[0mself\u001b[0m\u001b[1;33m.\u001b[0m\u001b[0mlayout_\u001b[0m\u001b[1;33m]\u001b[0m\u001b[1;33m\u001b[0m\u001b[1;33m\u001b[0m\u001b[0m\n",
      "\u001b[1;32m~\\AppData\\Roaming\\Python\\Python36\\site-packages\\wordcloud\\wordcloud.py\u001b[0m in \u001b[0;36mgenerate_from_frequencies\u001b[1;34m(self, frequencies, max_font_size)\u001b[0m\n\u001b[0;32m    506\u001b[0m                     font, orientation=orientation)\n\u001b[0;32m    507\u001b[0m                 \u001b[1;31m# get size of resulting text\u001b[0m\u001b[1;33m\u001b[0m\u001b[1;33m\u001b[0m\u001b[1;33m\u001b[0m\u001b[0m\n\u001b[1;32m--> 508\u001b[1;33m                 \u001b[0mbox_size\u001b[0m \u001b[1;33m=\u001b[0m \u001b[0mdraw\u001b[0m\u001b[1;33m.\u001b[0m\u001b[0mtextbbox\u001b[0m\u001b[1;33m(\u001b[0m\u001b[1;33m(\u001b[0m\u001b[1;36m0\u001b[0m\u001b[1;33m,\u001b[0m \u001b[1;36m0\u001b[0m\u001b[1;33m)\u001b[0m\u001b[1;33m,\u001b[0m \u001b[0mword\u001b[0m\u001b[1;33m,\u001b[0m \u001b[0mfont\u001b[0m\u001b[1;33m=\u001b[0m\u001b[0mtransposed_font\u001b[0m\u001b[1;33m,\u001b[0m \u001b[0manchor\u001b[0m\u001b[1;33m=\u001b[0m\u001b[1;34m\"lt\"\u001b[0m\u001b[1;33m)\u001b[0m\u001b[1;33m\u001b[0m\u001b[1;33m\u001b[0m\u001b[0m\n\u001b[0m\u001b[0;32m    509\u001b[0m                 \u001b[1;31m# find possible places using integral image:\u001b[0m\u001b[1;33m\u001b[0m\u001b[1;33m\u001b[0m\u001b[1;33m\u001b[0m\u001b[0m\n\u001b[0;32m    510\u001b[0m                 result = occupancy.sample_position(box_size[3] + self.margin,\n",
      "\u001b[1;32m~\\AppData\\Roaming\\Python\\Python36\\site-packages\\PIL\\ImageDraw.py\u001b[0m in \u001b[0;36mtextbbox\u001b[1;34m(self, xy, text, font, anchor, spacing, align, direction, features, language, stroke_width, embedded_color)\u001b[0m\n\u001b[0;32m    649\u001b[0m             \u001b[0mfont\u001b[0m \u001b[1;33m=\u001b[0m \u001b[0mself\u001b[0m\u001b[1;33m.\u001b[0m\u001b[0mgetfont\u001b[0m\u001b[1;33m(\u001b[0m\u001b[1;33m)\u001b[0m\u001b[1;33m\u001b[0m\u001b[1;33m\u001b[0m\u001b[0m\n\u001b[0;32m    650\u001b[0m         \u001b[1;32mif\u001b[0m \u001b[1;32mnot\u001b[0m \u001b[0misinstance\u001b[0m\u001b[1;33m(\u001b[0m\u001b[0mfont\u001b[0m\u001b[1;33m,\u001b[0m \u001b[0mImageFont\u001b[0m\u001b[1;33m.\u001b[0m\u001b[0mFreeTypeFont\u001b[0m\u001b[1;33m)\u001b[0m\u001b[1;33m:\u001b[0m\u001b[1;33m\u001b[0m\u001b[1;33m\u001b[0m\u001b[0m\n\u001b[1;32m--> 651\u001b[1;33m             \u001b[1;32mraise\u001b[0m \u001b[0mValueError\u001b[0m\u001b[1;33m(\u001b[0m\u001b[1;34m\"Only supported for TrueType fonts\"\u001b[0m\u001b[1;33m)\u001b[0m\u001b[1;33m\u001b[0m\u001b[1;33m\u001b[0m\u001b[0m\n\u001b[0m\u001b[0;32m    652\u001b[0m         \u001b[0mmode\u001b[0m \u001b[1;33m=\u001b[0m \u001b[1;34m\"RGBA\"\u001b[0m \u001b[1;32mif\u001b[0m \u001b[0membedded_color\u001b[0m \u001b[1;32melse\u001b[0m \u001b[0mself\u001b[0m\u001b[1;33m.\u001b[0m\u001b[0mfontmode\u001b[0m\u001b[1;33m\u001b[0m\u001b[1;33m\u001b[0m\u001b[0m\n\u001b[0;32m    653\u001b[0m         bbox = font.getbbox(\n",
      "\u001b[1;31mValueError\u001b[0m: Only supported for TrueType fonts"
     ]
    }
   ],
   "source": [
    "generate_wordcloud(negative)"
   ]
  },
  {
   "cell_type": "code",
   "execution_count": 22,
   "metadata": {},
   "outputs": [],
   "source": [
    "# generate_wordcloud(positive)"
   ]
  },
  {
   "cell_type": "markdown",
   "metadata": {},
   "source": [
    "If you carefully look at the wordcloud of the negative reviews, you can see that a lot of people complain about the smell of the skincare product!"
   ]
  },
  {
   "cell_type": "markdown",
   "metadata": {},
   "source": [
    "Now let's analyze the indredients of the skincare products. Knowing very little about chemistry, can I distinguish the items between categories, such as serum, moisturizers, cleansers, etc..?"
   ]
  },
  {
   "cell_type": "code",
   "execution_count": 23,
   "metadata": {},
   "outputs": [],
   "source": [
    "moist_df = df[df.Category == 'Moisturizer']\n",
    "cleanse_df = df[df.Category == 'Cleanser']\n",
    "mask_df = df[df.Category == 'Face Mask']\n",
    "treat_df = df[df.Category == 'Treatment']"
   ]
  },
  {
   "cell_type": "code",
   "execution_count": 24,
   "metadata": {},
   "outputs": [],
   "source": [
    "moist = \" \".join(ing for ing in moist_df.Ingredients)\n",
    "cleanse = \" \".join(ing for ing in cleanse_df.Ingredients)\n",
    "mask = \" \".join(ing for ing in mask_df.Ingredients)\n",
    "treat = \" \".join(ing for ing in treat_df.Ingredients)"
   ]
  },
  {
   "cell_type": "code",
   "execution_count": 26,
   "metadata": {},
   "outputs": [],
   "source": [
    "# generate_wordcloud(moist)"
   ]
  },
  {
   "cell_type": "code",
   "execution_count": 27,
   "metadata": {},
   "outputs": [
    {
     "ename": "ValueError",
     "evalue": "Only supported for TrueType fonts",
     "output_type": "error",
     "traceback": [
      "\u001b[1;31m---------------------------------------------------------------------------\u001b[0m",
      "\u001b[1;31mValueError\u001b[0m                                Traceback (most recent call last)",
      "\u001b[1;32m<ipython-input-27-74ae4b9f1e1f>\u001b[0m in \u001b[0;36m<module>\u001b[1;34m\u001b[0m\n\u001b[1;32m----> 1\u001b[1;33m \u001b[0mgenerate_wordcloud\u001b[0m\u001b[1;33m(\u001b[0m\u001b[0mcleanse\u001b[0m\u001b[1;33m)\u001b[0m\u001b[1;33m\u001b[0m\u001b[1;33m\u001b[0m\u001b[0m\n\u001b[0m",
      "\u001b[1;32m<ipython-input-18-c04eb2501d1c>\u001b[0m in \u001b[0;36mgenerate_wordcloud\u001b[1;34m(data)\u001b[0m\n\u001b[0;32m      1\u001b[0m \u001b[1;32mdef\u001b[0m \u001b[0mgenerate_wordcloud\u001b[0m\u001b[1;33m(\u001b[0m\u001b[0mdata\u001b[0m\u001b[1;33m)\u001b[0m\u001b[1;33m:\u001b[0m\u001b[1;33m\u001b[0m\u001b[1;33m\u001b[0m\u001b[0m\n\u001b[1;32m----> 2\u001b[1;33m     \u001b[0mwordcloud\u001b[0m \u001b[1;33m=\u001b[0m \u001b[0mWordCloud\u001b[0m\u001b[1;33m(\u001b[0m\u001b[0mstopwords\u001b[0m\u001b[1;33m=\u001b[0m\u001b[0mstopwords\u001b[0m\u001b[1;33m,\u001b[0m \u001b[0mbackground_color\u001b[0m\u001b[1;33m=\u001b[0m\u001b[1;34m\"white\"\u001b[0m\u001b[1;33m)\u001b[0m\u001b[1;33m.\u001b[0m\u001b[0mgenerate\u001b[0m\u001b[1;33m(\u001b[0m\u001b[0mdata\u001b[0m\u001b[1;33m)\u001b[0m\u001b[1;33m\u001b[0m\u001b[1;33m\u001b[0m\u001b[0m\n\u001b[0m\u001b[0;32m      3\u001b[0m \u001b[1;33m\u001b[0m\u001b[0m\n\u001b[0;32m      4\u001b[0m     \u001b[0mplt\u001b[0m\u001b[1;33m.\u001b[0m\u001b[0mimshow\u001b[0m\u001b[1;33m(\u001b[0m\u001b[0mwordcloud\u001b[0m\u001b[1;33m,\u001b[0m \u001b[0minterpolation\u001b[0m\u001b[1;33m=\u001b[0m\u001b[1;34m'bilinear'\u001b[0m\u001b[1;33m)\u001b[0m\u001b[1;33m\u001b[0m\u001b[1;33m\u001b[0m\u001b[0m\n\u001b[0;32m      5\u001b[0m     \u001b[0mplt\u001b[0m\u001b[1;33m.\u001b[0m\u001b[0maxis\u001b[0m\u001b[1;33m(\u001b[0m\u001b[1;34m\"off\"\u001b[0m\u001b[1;33m)\u001b[0m\u001b[1;33m\u001b[0m\u001b[1;33m\u001b[0m\u001b[0m\n",
      "\u001b[1;32m~\\AppData\\Roaming\\Python\\Python36\\site-packages\\wordcloud\\wordcloud.py\u001b[0m in \u001b[0;36mgenerate\u001b[1;34m(self, text)\u001b[0m\n\u001b[0;32m    637\u001b[0m         \u001b[0mself\u001b[0m\u001b[1;33m\u001b[0m\u001b[1;33m\u001b[0m\u001b[0m\n\u001b[0;32m    638\u001b[0m         \"\"\"\n\u001b[1;32m--> 639\u001b[1;33m         \u001b[1;32mreturn\u001b[0m \u001b[0mself\u001b[0m\u001b[1;33m.\u001b[0m\u001b[0mgenerate_from_text\u001b[0m\u001b[1;33m(\u001b[0m\u001b[0mtext\u001b[0m\u001b[1;33m)\u001b[0m\u001b[1;33m\u001b[0m\u001b[1;33m\u001b[0m\u001b[0m\n\u001b[0m\u001b[0;32m    640\u001b[0m \u001b[1;33m\u001b[0m\u001b[0m\n\u001b[0;32m    641\u001b[0m     \u001b[1;32mdef\u001b[0m \u001b[0m_check_generated\u001b[0m\u001b[1;33m(\u001b[0m\u001b[0mself\u001b[0m\u001b[1;33m)\u001b[0m\u001b[1;33m:\u001b[0m\u001b[1;33m\u001b[0m\u001b[1;33m\u001b[0m\u001b[0m\n",
      "\u001b[1;32m~\\AppData\\Roaming\\Python\\Python36\\site-packages\\wordcloud\\wordcloud.py\u001b[0m in \u001b[0;36mgenerate_from_text\u001b[1;34m(self, text)\u001b[0m\n\u001b[0;32m    619\u001b[0m         \"\"\"\n\u001b[0;32m    620\u001b[0m         \u001b[0mwords\u001b[0m \u001b[1;33m=\u001b[0m \u001b[0mself\u001b[0m\u001b[1;33m.\u001b[0m\u001b[0mprocess_text\u001b[0m\u001b[1;33m(\u001b[0m\u001b[0mtext\u001b[0m\u001b[1;33m)\u001b[0m\u001b[1;33m\u001b[0m\u001b[1;33m\u001b[0m\u001b[0m\n\u001b[1;32m--> 621\u001b[1;33m         \u001b[0mself\u001b[0m\u001b[1;33m.\u001b[0m\u001b[0mgenerate_from_frequencies\u001b[0m\u001b[1;33m(\u001b[0m\u001b[0mwords\u001b[0m\u001b[1;33m)\u001b[0m\u001b[1;33m\u001b[0m\u001b[1;33m\u001b[0m\u001b[0m\n\u001b[0m\u001b[0;32m    622\u001b[0m         \u001b[1;32mreturn\u001b[0m \u001b[0mself\u001b[0m\u001b[1;33m\u001b[0m\u001b[1;33m\u001b[0m\u001b[0m\n\u001b[0;32m    623\u001b[0m \u001b[1;33m\u001b[0m\u001b[0m\n",
      "\u001b[1;32m~\\AppData\\Roaming\\Python\\Python36\\site-packages\\wordcloud\\wordcloud.py\u001b[0m in \u001b[0;36mgenerate_from_frequencies\u001b[1;34m(self, frequencies, max_font_size)\u001b[0m\n\u001b[0;32m    452\u001b[0m             \u001b[1;32melse\u001b[0m\u001b[1;33m:\u001b[0m\u001b[1;33m\u001b[0m\u001b[1;33m\u001b[0m\u001b[0m\n\u001b[0;32m    453\u001b[0m                 self.generate_from_frequencies(dict(frequencies[:2]),\n\u001b[1;32m--> 454\u001b[1;33m                                                max_font_size=self.height)\n\u001b[0m\u001b[0;32m    455\u001b[0m                 \u001b[1;31m# find font sizes\u001b[0m\u001b[1;33m\u001b[0m\u001b[1;33m\u001b[0m\u001b[1;33m\u001b[0m\u001b[0m\n\u001b[0;32m    456\u001b[0m                 \u001b[0msizes\u001b[0m \u001b[1;33m=\u001b[0m \u001b[1;33m[\u001b[0m\u001b[0mx\u001b[0m\u001b[1;33m[\u001b[0m\u001b[1;36m1\u001b[0m\u001b[1;33m]\u001b[0m \u001b[1;32mfor\u001b[0m \u001b[0mx\u001b[0m \u001b[1;32min\u001b[0m \u001b[0mself\u001b[0m\u001b[1;33m.\u001b[0m\u001b[0mlayout_\u001b[0m\u001b[1;33m]\u001b[0m\u001b[1;33m\u001b[0m\u001b[1;33m\u001b[0m\u001b[0m\n",
      "\u001b[1;32m~\\AppData\\Roaming\\Python\\Python36\\site-packages\\wordcloud\\wordcloud.py\u001b[0m in \u001b[0;36mgenerate_from_frequencies\u001b[1;34m(self, frequencies, max_font_size)\u001b[0m\n\u001b[0;32m    506\u001b[0m                     font, orientation=orientation)\n\u001b[0;32m    507\u001b[0m                 \u001b[1;31m# get size of resulting text\u001b[0m\u001b[1;33m\u001b[0m\u001b[1;33m\u001b[0m\u001b[1;33m\u001b[0m\u001b[0m\n\u001b[1;32m--> 508\u001b[1;33m                 \u001b[0mbox_size\u001b[0m \u001b[1;33m=\u001b[0m \u001b[0mdraw\u001b[0m\u001b[1;33m.\u001b[0m\u001b[0mtextbbox\u001b[0m\u001b[1;33m(\u001b[0m\u001b[1;33m(\u001b[0m\u001b[1;36m0\u001b[0m\u001b[1;33m,\u001b[0m \u001b[1;36m0\u001b[0m\u001b[1;33m)\u001b[0m\u001b[1;33m,\u001b[0m \u001b[0mword\u001b[0m\u001b[1;33m,\u001b[0m \u001b[0mfont\u001b[0m\u001b[1;33m=\u001b[0m\u001b[0mtransposed_font\u001b[0m\u001b[1;33m,\u001b[0m \u001b[0manchor\u001b[0m\u001b[1;33m=\u001b[0m\u001b[1;34m\"lt\"\u001b[0m\u001b[1;33m)\u001b[0m\u001b[1;33m\u001b[0m\u001b[1;33m\u001b[0m\u001b[0m\n\u001b[0m\u001b[0;32m    509\u001b[0m                 \u001b[1;31m# find possible places using integral image:\u001b[0m\u001b[1;33m\u001b[0m\u001b[1;33m\u001b[0m\u001b[1;33m\u001b[0m\u001b[0m\n\u001b[0;32m    510\u001b[0m                 result = occupancy.sample_position(box_size[3] + self.margin,\n",
      "\u001b[1;32m~\\AppData\\Roaming\\Python\\Python36\\site-packages\\PIL\\ImageDraw.py\u001b[0m in \u001b[0;36mtextbbox\u001b[1;34m(self, xy, text, font, anchor, spacing, align, direction, features, language, stroke_width, embedded_color)\u001b[0m\n\u001b[0;32m    649\u001b[0m             \u001b[0mfont\u001b[0m \u001b[1;33m=\u001b[0m \u001b[0mself\u001b[0m\u001b[1;33m.\u001b[0m\u001b[0mgetfont\u001b[0m\u001b[1;33m(\u001b[0m\u001b[1;33m)\u001b[0m\u001b[1;33m\u001b[0m\u001b[1;33m\u001b[0m\u001b[0m\n\u001b[0;32m    650\u001b[0m         \u001b[1;32mif\u001b[0m \u001b[1;32mnot\u001b[0m \u001b[0misinstance\u001b[0m\u001b[1;33m(\u001b[0m\u001b[0mfont\u001b[0m\u001b[1;33m,\u001b[0m \u001b[0mImageFont\u001b[0m\u001b[1;33m.\u001b[0m\u001b[0mFreeTypeFont\u001b[0m\u001b[1;33m)\u001b[0m\u001b[1;33m:\u001b[0m\u001b[1;33m\u001b[0m\u001b[1;33m\u001b[0m\u001b[0m\n\u001b[1;32m--> 651\u001b[1;33m             \u001b[1;32mraise\u001b[0m \u001b[0mValueError\u001b[0m\u001b[1;33m(\u001b[0m\u001b[1;34m\"Only supported for TrueType fonts\"\u001b[0m\u001b[1;33m)\u001b[0m\u001b[1;33m\u001b[0m\u001b[1;33m\u001b[0m\u001b[0m\n\u001b[0m\u001b[0;32m    652\u001b[0m         \u001b[0mmode\u001b[0m \u001b[1;33m=\u001b[0m \u001b[1;34m\"RGBA\"\u001b[0m \u001b[1;32mif\u001b[0m \u001b[0membedded_color\u001b[0m \u001b[1;32melse\u001b[0m \u001b[0mself\u001b[0m\u001b[1;33m.\u001b[0m\u001b[0mfontmode\u001b[0m\u001b[1;33m\u001b[0m\u001b[1;33m\u001b[0m\u001b[0m\n\u001b[0;32m    653\u001b[0m         bbox = font.getbbox(\n",
      "\u001b[1;31mValueError\u001b[0m: Only supported for TrueType fonts"
     ]
    }
   ],
   "source": [
    "generate_wordcloud(cleanse)"
   ]
  },
  {
   "cell_type": "code",
   "execution_count": null,
   "metadata": {},
   "outputs": [
    {
     "data": {
      "image/png": "[encoded data removed]",
      "text/plain": [
       "<Figure size 432x288 with 1 Axes>"
      ]
     },
     "metadata": {
      "needs_background": "light"
     },
     "output_type": "display_data"
    }
   ],
   "source": [
    "generate_wordcloud(mask)"
   ]
  },
  {
   "cell_type": "code",
   "execution_count": null,
   "metadata": {},
   "outputs": [
    {
     "data": {
      "image/png": "[encoded data removed]",
      "text/plain": [
       "<Figure size 432x288 with 1 Axes>"
      ]
     },
     "metadata": {
      "needs_background": "light"
     },
     "output_type": "display_data"
    }
   ],
   "source": [
    "generate_wordcloud(treat)"
   ]
  },
  {
   "cell_type": "markdown",
   "metadata": {},
   "source": [
    "Let's build a classification model to distinguish the products."
   ]
  },
  {
   "cell_type": "code",
   "execution_count": null,
   "metadata": {},
   "outputs": [],
   "source": [
    "X = df.Ingredients\n",
    "y = df.Category\n",
    "X_train, X_test, y_train, y_test = train_test_split(X, y, test_size=0.25, random_state = 42)"
   ]
  },
  {
   "cell_type": "code",
   "execution_count": null,
   "metadata": {},
   "outputs": [],
   "source": [
    "categories = ['Moisturizer', 'Cleanser', 'Face Mask', 'Treatment']"
   ]
  },
  {
   "cell_type": "code",
   "execution_count": null,
   "metadata": {},
   "outputs": [
    {
     "name": "stdout",
     "output_type": "stream",
     "text": [
      "accuracy 0.9653259361997226\n",
      "              precision    recall  f1-score   support\n",
      "\n",
      " Moisturizer       0.96      0.99      0.98      1031\n",
      "    Cleanser       0.00      0.00      0.00         9\n",
      "   Face Mask       0.99      0.96      0.98       649\n",
      "   Treatment       0.94      0.92      0.93       474\n",
      "\n",
      "   micro avg       0.97      0.97      0.97      2163\n",
      "   macro avg       0.72      0.72      0.72      2163\n",
      "weighted avg       0.96      0.97      0.96      2163\n",
      "\n"
     ]
    }
   ],
   "source": [
    "#Naive Bayes\n",
    "nb = Pipeline([('vect', CountVectorizer()),\n",
    "               ('tfidf', TfidfTransformer()),\n",
    "               ('clf', MultinomialNB()),\n",
    "              ])\n",
    "nb.fit(X_train, y_train)\n",
    "\n",
    "y_pred = nb.predict(X_test)\n",
    "\n",
    "print('accuracy %s' % accuracy_score(y_pred, y_test))\n",
    "print(classification_report(y_test, y_pred,target_names=categories))"
   ]
  },
  {
   "cell_type": "code",
   "execution_count": null,
   "metadata": {},
   "outputs": [
    {
     "name": "stdout",
     "output_type": "stream",
     "text": [
      "accuracy 0.9833564493758669\n",
      "              precision    recall  f1-score   support\n",
      "\n",
      " Moisturizer       0.99      0.97      0.98      1031\n",
      "    Cleanser       1.00      1.00      1.00         9\n",
      "   Face Mask       0.97      1.00      0.98       649\n",
      "   Treatment       0.98      0.99      0.98       474\n",
      "\n",
      "   micro avg       0.98      0.98      0.98      2163\n",
      "   macro avg       0.99      0.99      0.99      2163\n",
      "weighted avg       0.98      0.98      0.98      2163\n",
      "\n"
     ]
    }
   ],
   "source": [
    "#Logistic Regression\n",
    "logreg = Pipeline([('vect', CountVectorizer()),\n",
    "                ('tfidf', TfidfTransformer()),\n",
    "                ('clf', LogisticRegression(n_jobs=1, C=1e5)),\n",
    "               ])\n",
    "logreg.fit(X_train, y_train)\n",
    "\n",
    "\n",
    "y_pred = logreg.predict(X_test)\n",
    "\n",
    "print('accuracy %s' % accuracy_score(y_pred, y_test))\n",
    "print(classification_report(y_test, y_pred,target_names=categories))"
   ]
  },
  {
   "cell_type": "code",
   "execution_count": null,
   "metadata": {},
   "outputs": [
    {
     "name": "stdout",
     "output_type": "stream",
     "text": [
      "accuracy 0.9759593157651411\n",
      "              precision    recall  f1-score   support\n",
      "\n",
      " Moisturizer       0.98      0.98      0.98      1031\n",
      "    Cleanser       1.00      1.00      1.00         9\n",
      "   Face Mask       0.96      1.00      0.98       649\n",
      "   Treatment       1.00      0.93      0.97       474\n",
      "\n",
      "   micro avg       0.98      0.98      0.98      2163\n",
      "   macro avg       0.98      0.98      0.98      2163\n",
      "weighted avg       0.98      0.98      0.98      2163\n",
      "\n"
     ]
    }
   ],
   "source": [
    "#SVG with SGD\n",
    "sgd = Pipeline([('vect', CountVectorizer()),\n",
    "                ('tfidf', TfidfTransformer()),\n",
    "                ('clf', SGDClassifier(loss='hinge', penalty='l2',alpha=1e-3, random_state=42, max_iter=5, tol=None)),\n",
    "               ])\n",
    "sgd.fit(X_train, y_train)\n",
    "\n",
    "y_pred = sgd.predict(X_test)\n",
    "\n",
    "print('accuracy %s' % accuracy_score(y_pred, y_test))\n",
    "print(classification_report(y_test, y_pred,target_names=categories))"
   ]
  },
  {
   "cell_type": "markdown",
   "metadata": {},
   "source": [
    "# Latent Dirichlet Allocation\n",
    "\n",
    "Now that we know that different skincare categories are distinguishable, it would be interesting to use unsupervised clustering to figure out how the ingredients would group naturally."
   ]
  },
  {
   "cell_type": "code",
   "execution_count": null,
   "metadata": {},
   "outputs": [],
   "source": [
    "from __future__ import print_function\n",
    "import pyLDAvis\n",
    "import pyLDAvis.sklearn\n",
    "pyLDAvis.enable_notebook()\n",
    "from sklearn.feature_extraction.text import CountVectorizer, TfidfVectorizer\n",
    "from sklearn.decomposition import LatentDirichletAllocation"
   ]
  },
  {
   "cell_type": "code",
   "execution_count": null,
   "metadata": {},
   "outputs": [],
   "source": [
    "ing_raw = df.Ingredients"
   ]
  },
  {
   "cell_type": "code",
   "execution_count": null,
   "metadata": {},
   "outputs": [],
   "source": [
    "tf_vectorizer = CountVectorizer(strip_accents = 'unicode',\n",
    "                                stop_words = 'english',\n",
    "                                lowercase = True,\n",
    "                                token_pattern = r'\\b[a-zA-Z]{3,}\\b',\n",
    "                                max_df = 0.5, \n",
    "                                min_df = 10)\n",
    "dtm_tf = tf_vectorizer.fit_transform(ing_raw)"
   ]
  },
  {
   "cell_type": "code",
   "execution_count": null,
   "metadata": {},
   "outputs": [
    {
     "name": "stderr",
     "output_type": "stream",
     "text": [
      "/Users/agorina/opt/anaconda3/lib/python3.7/site-packages/sklearn/feature_extraction/text.py:1577: UserWarning:\n",
      "\n",
      "Only (<class 'numpy.float64'>, <class 'numpy.float32'>, <class 'numpy.float16'>) 'dtype' should be used. <class 'numpy.int64'> 'dtype' will be converted to np.float64.\n",
      "\n"
     ]
    }
   ],
   "source": [
    "tfidf_vectorizer = TfidfVectorizer(**tf_vectorizer.get_params())\n",
    "dtm_tfidf = tfidf_vectorizer.fit_transform(ing_raw)"
   ]
  },
  {
   "cell_type": "code",
   "execution_count": null,
   "metadata": {},
   "outputs": [
    {
     "data": {
      "text/plain": [
       "LatentDirichletAllocation(batch_size=128, doc_topic_prior=None,\n",
       "             evaluate_every=-1, learning_decay=0.7,\n",
       "             learning_method='batch', learning_offset=10.0,\n",
       "             max_doc_update_iter=100, max_iter=10, mean_change_tol=0.001,\n",
       "             n_components=4, n_jobs=None, n_topics=None, perp_tol=0.1,\n",
       "             random_state=0, topic_word_prior=None,\n",
       "             total_samples=1000000.0, verbose=0)"
      ]
     },
     "execution_count": 54,
     "metadata": {},
     "output_type": "execute_result"
    }
   ],
   "source": [
    "lda_tf = LatentDirichletAllocation(n_components=4, random_state=0)\n",
    "lda_tf.fit(dtm_tf)\n",
    "# for TFIDF DTM\n",
    "lda_tfidf = LatentDirichletAllocation(n_components=4, random_state=0)\n",
    "lda_tfidf.fit(dtm_tfidf)"
   ]
  },
  {
   "cell_type": "code",
   "execution_count": null,
   "metadata": {},
   "outputs": [
    {
     "name": "stderr",
     "output_type": "stream",
     "text": [
      "/Users/agorina/opt/anaconda3/lib/python3.7/site-packages/pyLDAvis/_prepare.py:257: FutureWarning:\n",
      "\n",
      "Sorting because non-concatenation axis is not aligned. A future version\n",
      "of pandas will change to not sort by default.\n",
      "\n",
      "To accept the future behavior, pass 'sort=False'.\n",
      "\n",
      "To retain the current behavior and silence the warning, pass 'sort=True'.\n",
      "\n",
      "\n"
     ]
    },
    {
     "data": {
      "text/html": [
       "\n",
       "<link rel=\"stylesheet\" type=\"text/css\" href=\"https://cdn.rawgit.com/bmabey/pyLDAvis/files/ldavis.v1.0.0.css\">\n",
       "\n",
       "\n",
       "<div id=\"ldavis_el182551296825122977118035\"></div>\n",
       "<script type=\"text/javascript\">\n",
       "\n",
       "var ldavis_el182551296825122977118035_data = {\"mdsDat\": {\"x\": [-0.04530690203443571, -0.05494589774728007, -0.10070795362620787, 0.20096075340792366], \"y\": [0.09851333224888022, 0.09000841328178698, -0.15677595282075638, -0.031745792709910896], \"topics\": [1, 2, 3, 4], \"cluster\": [1, 1, 1, 1], \"Freq\": [29.719773941430596, 27.803118324921027, 21.86731143488143, 20.609796298766955]}, \"tinfo\": {\"Category\": [\"Default\", \"Default\", \"Default\", \"Default\", \"Default\", \"Default\", \"Default\", \"Default\", \"Default\", \"Default\", \"Default\", \"Default\", \"Default\", \"Default\", \"Default\", \"Default\", \"Default\", \"Default\", \"Default\", \"Default\", \"Default\", \"Default\", \"Default\", \"Default\", \"Default\", \"Default\", \"Default\", \"Default\", \"Default\", \"Default\", \"Topic1\", \"Topic1\", \"Topic1\", \"Topic1\", \"Topic1\", \"Topic1\", \"Topic1\", \"Topic1\", \"Topic1\", \"Topic1\", \"Topic1\", \"Topic1\", \"Topic1\", \"Topic1\", \"Topic1\", \"Topic1\", \"Topic1\", \"Topic1\", \"Topic1\", \"Topic1\", \"Topic1\", \"Topic1\", \"Topic1\", \"Topic1\", \"Topic1\", \"Topic1\", \"Topic1\", \"Topic1\", \"Topic1\", \"Topic1\", \"Topic1\", \"Topic1\", \"Topic1\", \"Topic1\", \"Topic1\", \"Topic1\", \"Topic1\", \"Topic1\", \"Topic1\", \"Topic1\", \"Topic1\", \"Topic1\", \"Topic1\", \"Topic1\", \"Topic1\", \"Topic1\", \"Topic1\", \"Topic1\", \"Topic1\", \"Topic1\", \"Topic1\", \"Topic1\", \"Topic1\", \"Topic1\", \"Topic1\", \"Topic1\", \"Topic1\", \"Topic1\", \"Topic1\", \"Topic1\", \"Topic1\", \"Topic1\", \"Topic1\", \"Topic1\", \"Topic1\", \"Topic1\", \"Topic1\", \"Topic1\", \"Topic1\", \"Topic1\", \"Topic1\", \"Topic1\", \"Topic1\", \"Topic1\", \"Topic1\", \"Topic1\", \"Topic1\", \"Topic1\", \"Topic1\", \"Topic1\", \"Topic2\", \"Topic2\", \"Topic2\", \"Topic2\", \"Topic2\", \"Topic2\", \"Topic2\", \"Topic2\", \"Topic2\", \"Topic2\", \"Topic2\", \"Topic2\", \"Topic2\", \"Topic2\", \"Topic2\", \"Topic2\", \"Topic2\", \"Topic2\", \"Topic2\", \"Topic2\", \"Topic2\", \"Topic2\", \"Topic2\", \"Topic2\", \"Topic2\", \"Topic2\", \"Topic2\", \"Topic2\", \"Topic2\", \"Topic2\", \"Topic2\", \"Topic2\", \"Topic2\", \"Topic2\", \"Topic2\", \"Topic2\", \"Topic2\", \"Topic2\", \"Topic2\", \"Topic2\", \"Topic2\", \"Topic2\", \"Topic2\", \"Topic2\", \"Topic2\", \"Topic2\", \"Topic2\", \"Topic2\", \"Topic2\", \"Topic2\", \"Topic2\", \"Topic2\", \"Topic2\", \"Topic2\", \"Topic2\", \"Topic2\", \"Topic2\", \"Topic2\", \"Topic2\", \"Topic2\", \"Topic2\", \"Topic2\", \"Topic2\", \"Topic2\", \"Topic2\", \"Topic2\", \"Topic2\", \"Topic2\", \"Topic2\", \"Topic2\", \"Topic2\", \"Topic2\", \"Topic2\", \"Topic3\", \"Topic3\", \"Topic3\", \"Topic3\", \"Topic3\", \"Topic3\", \"Topic3\", \"Topic3\", \"Topic3\", \"Topic3\", \"Topic3\", \"Topic3\", \"Topic3\", \"Topic3\", \"Topic3\", \"Topic3\", \"Topic3\", \"Topic3\", \"Topic3\", \"Topic3\", \"Topic3\", \"Topic3\", \"Topic3\", \"Topic3\", \"Topic3\", \"Topic3\", \"Topic3\", \"Topic3\", \"Topic3\", \"Topic3\", \"Topic3\", \"Topic3\", \"Topic3\", \"Topic3\", \"Topic3\", \"Topic3\", \"Topic3\", \"Topic3\", \"Topic3\", \"Topic3\", \"Topic3\", \"Topic3\", \"Topic3\", \"Topic3\", \"Topic3\", \"Topic3\", \"Topic3\", \"Topic3\", \"Topic3\", \"Topic3\", \"Topic3\", \"Topic3\", \"Topic3\", \"Topic3\", \"Topic3\", \"Topic3\", \"Topic3\", \"Topic3\", \"Topic3\", \"Topic3\", \"Topic3\", \"Topic3\", \"Topic3\", \"Topic3\", \"Topic3\", \"Topic3\", \"Topic3\", \"Topic3\", \"Topic3\", \"Topic3\", \"Topic3\", \"Topic3\", \"Topic3\", \"Topic3\", \"Topic3\", \"Topic3\", \"Topic3\", \"Topic4\", \"Topic4\", \"Topic4\", \"Topic4\", \"Topic4\", \"Topic4\", \"Topic4\", \"Topic4\", \"Topic4\", \"Topic4\", \"Topic4\", \"Topic4\", \"Topic4\", \"Topic4\", \"Topic4\", \"Topic4\", \"Topic4\", \"Topic4\", \"Topic4\", \"Topic4\", \"Topic4\", \"Topic4\", \"Topic4\", \"Topic4\", \"Topic4\", \"Topic4\", \"Topic4\", \"Topic4\", \"Topic4\", \"Topic4\", \"Topic4\", \"Topic4\", \"Topic4\", \"Topic4\", \"Topic4\", \"Topic4\", \"Topic4\", \"Topic4\", \"Topic4\", \"Topic4\", \"Topic4\", \"Topic4\", \"Topic4\", \"Topic4\", \"Topic4\", \"Topic4\", \"Topic4\", \"Topic4\", \"Topic4\", \"Topic4\", \"Topic4\", \"Topic4\", \"Topic4\", \"Topic4\", \"Topic4\", \"Topic4\", \"Topic4\", \"Topic4\", \"Topic4\", \"Topic4\", \"Topic4\", \"Topic4\", \"Topic4\", \"Topic4\", \"Topic4\", \"Topic4\", \"Topic4\", \"Topic4\", \"Topic4\"], \"Freq\": [8675.0, 6742.0, 1376.0, 621.0, 621.0, 2118.0, 1479.0, 1570.0, 527.0, 569.0, 569.0, 639.0, 639.0, 1237.0, 520.0, 520.0, 1427.0, 752.0, 427.0, 427.0, 427.0, 469.0, 2732.0, 618.0, 886.0, 1017.0, 582.0, 478.0, 993.0, 1119.0, 477.85202964617537, 404.90043996137126, 284.93721595816254, 238.04597479228926, 168.1041857469464, 168.10418574694557, 165.0986029865508, 141.1212154860886, 120.14716632171732, 120.12031559356305, 120.10819624332979, 120.10818986303329, 120.10816666544018, 96.17179777371268, 96.16650258632751, 96.16650226320506, 96.16474413350879, 96.16474377610508, 95.17057761732491, 95.17021784598052, 94.1730045267135, 94.16846447668053, 94.16846443257072, 96.14184694058196, 96.13882959945933, 96.13602216696778, 72.19129768161591, 72.19129470756658, 72.19129470756658, 72.19129386340869, 141.66304384377622, 310.98239950233494, 459.97522018101296, 258.4772662120513, 294.26100759068356, 1043.8442202791357, 228.98746805530251, 213.13061281603902, 1379.7567168425708, 280.7833426479153, 307.3852110037193, 814.6297542352253, 1539.719684724742, 379.28084781079775, 464.51238058896456, 538.8304649812459, 813.415880800629, 998.0955986994946, 565.2400750279389, 950.6991862894394, 1336.4002502984808, 415.82109578710106, 991.2571298542741, 1994.8644972260033, 1139.546317591973, 1308.7805976541295, 1404.565944680014, 807.4900911993365, 943.0771463109916, 641.3966007626203, 1044.854573262888, 1575.738885889105, 2023.0629836987177, 848.5019962304475, 725.3343733072358, 1119.7298863901708, 852.8277716987424, 1632.2444951837724, 895.2671470348135, 936.0136541898038, 1598.5597188745762, 736.9721582398128, 1108.2589641954098, 1223.4277084578466, 945.6927112723829, 1056.711149727622, 1195.9934546414884, 938.5416974138872, 901.3247728564443, 864.3043057724099, 520.0678753607857, 520.0678753602219, 285.95046973470494, 285.950469734705, 214.5250007446518, 214.5250007446518, 214.5250007446518, 214.5250007446518, 214.5250007446518, 214.5250007446518, 214.5250007446518, 190.71618262583632, 190.71618168958807, 166.90732100449367, 164.92356226705337, 143.1000676006833, 142.10803631892847, 142.10650595686067, 141.11469077858948, 141.1011132354507, 119.29138875012524, 119.29138236981501, 119.29137435452809, 118.29935854408366, 118.29935854408366, 118.2936467160456, 118.29364668528419, 119.2779098830701, 117.28504214954182, 95.48271014196047, 277.04425065940535, 259.5487198753875, 258.0271505291485, 466.6626710044076, 458.3607660674125, 470.4491200605706, 214.43033141069725, 597.6655968474456, 592.5222896006923, 257.89410137011475, 2698.234664826938, 821.4483460234127, 1711.115162736, 496.2411806935, 811.2049385750281, 1669.3577295508705, 856.1023438301789, 1218.911779800735, 954.3320557366035, 941.8514297479162, 1127.4400017790117, 1387.0250458852415, 842.8525722996288, 1527.9573554152862, 566.8918435788764, 2205.8220120610476, 1356.928840439871, 1325.2649445315212, 907.0572265830825, 736.2748408751236, 891.9550440608984, 843.2427815656135, 969.4733220819714, 1223.4180575829855, 887.5194736090455, 1152.988839850862, 765.4475521160704, 758.9662394313439, 708.6447767181362, 713.93521291531, 738.663545549271, 674.4271772274085, 692.8818026345219, 426.8923843537559, 426.89238430660515, 426.89238425492107, 232.42366678765686, 233.38972101291117, 233.38955135030352, 213.56847253321303, 213.56847252619383, 213.56847252323257, 213.5684725183731, 213.56847250505945, 213.56847249251544, 213.56847249209608, 188.75863005609799, 189.74288842797446, 189.74288816128507, 180.82921581304592, 180.8292158130459, 166.91996524784847, 165.93113797309718, 141.12951937312096, 141.12951350500842, 138.16402044938351, 138.1414905169225, 119.31018886453943, 119.31018886321142, 114.35153254310578, 114.35153254310589, 114.3515325431058, 114.35153254310585, 212.43742670892564, 212.43716952863258, 444.164334390155, 330.2834427555878, 257.7829361827589, 477.81300069411265, 984.0904025624354, 556.6897532789762, 371.4939348383452, 371.49393342448707, 371.4939300677574, 299.31822027249956, 586.8837516637741, 2224.4210130567903, 626.0878109161771, 302.82760529549245, 286.57857364853743, 571.6046066443199, 1124.358695287714, 567.8743986286194, 588.7315938626232, 586.5074720762697, 410.59706378747194, 738.9472168220159, 386.56150727553376, 822.0554688594528, 781.2376238679935, 487.2378808662158, 582.4600990436658, 590.6186015208632, 395.79657270924514, 950.5131561505093, 949.8312302127407, 719.5912786735192, 1072.6344471370462, 1025.2514222355626, 922.7901187222242, 518.6187057444008, 1024.1807264621152, 546.4457020011739, 722.008766451988, 698.9345078199157, 539.8678981919389, 571.563308506974, 579.8836707854055, 521.0660271712259, 547.8533263674924, 619.7086789447103, 619.7084134728768, 209.76271734720893, 191.8050041318454, 191.8050041318454, 191.79860785552583, 191.79859899392562, 188.80086545491147, 167.8605564385588, 166.85639806376685, 166.85639740830243, 166.76777072890832, 143.91610922093756, 143.91435760927317, 143.91121808786258, 142.9100208813834, 119.96807637882799, 119.9667680915217, 119.96676799119075, 119.96676789820584, 118.97397055270928, 119.95929236127814, 96.02721235471647, 96.02721235471647, 96.02721083541718, 96.02720577813355, 96.0252527093718, 117.797437560826, 95.02952358965896, 95.02952358965896, 117.7821679390135, 96.00818243619278, 502.4392488779472, 250.14257645284783, 516.6783688776176, 516.1032538512064, 305.89323825961094, 555.0234670007313, 555.0207608006485, 348.75329743758255, 362.128738921511, 378.87154154690245, 378.010983151372, 251.51090906719435, 3846.441701515521, 958.2523829541173, 2708.292994166369, 827.8172910104785, 431.770643650569, 326.9519234729477, 1722.2922861826385, 766.5982620422099, 668.1980071470493, 990.8861576421716, 558.8106720474017, 1475.5528865509546, 1133.2410444456857, 552.9686258438502, 740.2845194566592, 436.90256737346624, 642.4200487575848, 911.7861721828446, 563.855160986304, 460.66710815789224, 526.8563949159296, 607.304202348107, 439.7469645625173, 508.02595826230544, 451.529208646328], \"Term\": [\"leaf\", \"seed\", \"gluconate\", \"azadirachta\", \"melia\", \"tocopherol\", \"acrylate\", \"aloe\", \"vitamin\", \"virginiana\", \"hamamelis\", \"hazel\", \"witch\", \"alkyl\", \"boutique\", \"visit\", \"barbadensis\", \"caffeine\", \"time\", \"list\", \"ingredient\", \"extrait\", \"officinalis\", \"natural\", \"acetyl\", \"helianthus\", \"laminaria\", \"sugar\", \"annuus\", \"lavandula\", \"sugar\", \"saccharum\", \"officinarum\", \"cane\", \"maple\", \"acer\", \"colloidal\", \"oatmeal\", \"cocoa\", \"eugenol\", \"eugenia\", \"clove\", \"caryophyllus\", \"quinoa\", \"cacao\", \"theobroma\", \"fragaria\", \"strawberry\", \"polymethyl\", \"dipeptide\", \"ester\", \"gossypium\", \"cotton\", \"anisate\", \"cladosiphon\", \"okamuranus\", \"tetra\", \"butylphenol\", \"benzotriazolyl\", \"grapevine\", \"dextrin\", \"plant\", \"acryloyldimethyl\", \"cocos\", \"oleate\", \"acrylate\", \"glucan\", \"avocado\", \"tocopherol\", \"caprylate\", \"isononanoate\", \"alkyl\", \"gum\", \"limon\", \"ethylhexyl\", \"ceramide\", \"propanediol\", \"xanthan\", \"parfum\", \"glucoside\", \"potassium\", \"hydroxyethyl\", \"caprylic\", \"alcohol\", \"copolymer\", \"glyceryl\", \"fragrance\", \"cetearyl\", \"capric\", \"benzyl\", \"benzoate\", \"dimethicone\", \"fruit\", \"triglyceride\", \"cetyl\", \"stearate\", \"ethylhexylglycerin\", \"peg\", \"crosspolymer\", \"hydroxide\", \"leaf\", \"acrylates\", \"butylene\", \"flower\", \"citrus\", \"edta\", \"seed\", \"disodium\", \"root\", \"caprylyl\", \"boutique\", \"visit\", \"formula\", \"napiers\", \"media\", \"cataria\", \"stellaria\", \"nepeta\", \"chickweed\", \"baptisia\", \"tinctoria\", \"alchemilla\", \"fragrances\", \"original\", \"ginseng\", \"trifoliata\", \"silver\", \"octenylsuccinate\", \"panax\", \"papaya\", \"poncirus\", \"xylitol\", \"lappa\", \"cimicifuga\", \"racemosa\", \"lentil\", \"esculenta\", \"hydroxydecanoic\", \"galactomyces\", \"citronnellol\", \"olivate\", \"chitosan\", \"gallate\", \"calendula\", \"trisodium\", \"corn\", \"apricot\", \"saccharomyces\", \"starch\", \"propyl\", \"peg\", \"cocoyl\", \"disodium\", \"hexanediol\", \"ppg\", \"edta\", \"betaine\", \"stearate\", \"ferment\", \"hydrogenated\", \"officinalis\", \"dimethicone\", \"hydrolyzed\", \"alcohol\", \"chlorphenesin\", \"leaf\", \"butylene\", \"root\", \"crosspolymer\", \"acrylates\", \"caprylyl\", \"copolymer\", \"fragrance\", \"flower\", \"glyceryl\", \"fruit\", \"citric\", \"hydroxide\", \"acetate\", \"tocopheryl\", \"gum\", \"ethylhexylglycerin\", \"hyaluronate\", \"time\", \"list\", \"ingredient\", \"seedcake\", \"faex\", \"levure\", \"lists\", \"vary\", \"change\", \"aware\", \"package\", \"refer\", \"receive\", \"hordeum\", \"oenothera\", \"biennis\", \"structuree\", \"declustered\", \"nylon\", \"orge\", \"viridis\", \"spearmint\", \"tourmaline\", \"maris\", \"lauder\", \"estee\", \"salt\", \"sal\", \"sel\", \"marin\", \"primrose\", \"evening\", \"extrait\", \"ingredients\", \"lysate\", \"laminaria\", \"gluconate\", \"caffeine\", \"sesame\", \"indicum\", \"sesamum\", \"essential\", \"acetyl\", \"seed\", \"lavandula\", \"vulgare\", \"amygdalus\", \"annuus\", \"citrus\", \"helianthus\", \"dulcis\", \"sunflower\", \"nobilis\", \"peel\", \"yellow\", \"hyaluronate\", \"linalool\", \"lavender\", \"magnesium\", \"rosa\", \"prunus\", \"edta\", \"butylene\", \"tocopheryl\", \"fruit\", \"peg\", \"flower\", \"powder\", \"leaf\", \"orange\", \"disodium\", \"dimethicone\", \"aurantium\", \"limonene\", \"caprylyl\", \"caprylic\", \"root\", \"azadirachta\", \"melia\", \"info\", \"cold\", \"pressed\", \"coccinia\", \"eggplant\", \"nigrum\", \"anti\", \"daucus\", \"carota\", \"ubiquinone\", \"supports\", \"blueberry\", \"melongena\", \"sulfite\", \"isoflavones\", \"lawsonia\", \"inermis\", \"henna\", \"martini\", \"nigella\", \"reduces\", \"aha\", \"aging\", \"brassica\", \"clay\", \"currant\", \"mimosa\", \"tenuiflora\", \"ribes\", \"chromium\", \"vitamin\", \"corallina\", \"virginiana\", \"hamamelis\", \"organic\", \"hazel\", \"witch\", \"ocimum\", \"curcuma\", \"longa\", \"turmeric\", \"sanctum\", \"leaf\", \"aloe\", \"seed\", \"barbadensis\", \"natural\", \"simmondsia\", \"flower\", \"camellia\", \"sinensis\", \"officinalis\", \"bark\", \"fruit\", \"root\", \"juice\", \"polysorbate\", \"lactic\", \"benzoate\", \"alcohol\", \"citric\", \"pca\", \"tocopherol\", \"butylene\", \"sativa\", \"peg\", \"hydroxide\"], \"Total\": [8675.0, 6742.0, 1376.0, 621.0, 621.0, 2118.0, 1479.0, 1570.0, 527.0, 569.0, 569.0, 639.0, 639.0, 1237.0, 520.0, 520.0, 1427.0, 752.0, 427.0, 427.0, 427.0, 469.0, 2732.0, 618.0, 886.0, 1017.0, 582.0, 478.0, 993.0, 1119.0, 478.6069654951149, 405.66619478666087, 285.7632366439272, 238.80191545666645, 168.85879264389175, 168.85879264389177, 165.86116596764657, 141.88068295266646, 120.89777654965035, 120.89757652744078, 120.89756180362377, 120.89756175904674, 120.89756159697271, 96.9172953112507, 96.91726732171925, 96.91726731946147, 96.91724518941946, 96.91724518685852, 95.91809339987464, 95.91810403043303, 94.9189169877278, 94.91891240475208, 94.91891240468573, 96.91725024584838, 96.91706468662112, 96.9170450650629, 72.93679058143245, 72.9367905667318, 72.9367905667318, 72.9367905632649, 144.86104754569138, 335.68704880108936, 527.0902456564633, 287.5583768190154, 334.4467573789905, 1479.652858492027, 260.73557063541716, 240.75951877756216, 2118.9850030956723, 334.5938680313848, 380.30520723236293, 1237.9378646027328, 2699.9257881257504, 501.72192667217837, 643.2046267801285, 784.5885739546223, 1308.9067912682008, 1724.595527492478, 857.6291008284363, 1713.106747310298, 2704.457656757549, 597.2110991114738, 1853.0719764018006, 4721.728641811653, 2273.5414796274686, 2778.912032758742, 3060.7448855939283, 1455.1541788490356, 1806.1159018999592, 1067.7957731691201, 2111.2735066032037, 3775.8168350445267, 5724.23915723758, 1614.7830635830508, 1348.7862241022476, 2847.8031286712576, 1871.23804229442, 5863.756540508579, 2201.386943095121, 2435.819494084594, 8675.00415891326, 1564.2664099672807, 4022.3232371961285, 5091.928170945695, 2850.6562060929814, 3852.8491738798016, 6742.336165193163, 3615.24887680625, 3907.684088201144, 2514.1606260414787, 520.8180866011725, 520.8180866011722, 286.69942502072996, 286.69942502073, 215.27338702323084, 215.27338702323084, 215.27338702323084, 215.27338702323084, 215.27338702323084, 215.27338702323084, 215.27338702323084, 191.46470956504507, 191.46470956913632, 167.65603235171494, 165.67197538547563, 143.84734597211028, 142.85531772329713, 142.8553287684167, 141.86329844645644, 141.86335327504625, 120.03866771760025, 120.03866774518362, 120.03866777908596, 119.04663946412887, 119.04663946412887, 119.04666252357697, 119.0466625235834, 120.03868579159686, 118.05465058245792, 96.22998946187333, 284.7652853551668, 283.7313203006694, 282.9041964152748, 569.011543353473, 570.7750698077041, 593.1174486200692, 239.21850979542324, 806.7600601604104, 831.7885426436804, 306.88566134545016, 5863.756540508579, 1350.3425323160682, 3615.24887680625, 735.3841926106143, 1439.5244150285507, 3852.8491738798016, 1686.0052297792995, 2847.8031286712576, 2044.2189024373338, 2036.7473689813683, 2732.0776766622234, 3775.8168350445267, 1771.6753000370827, 4721.728641811653, 998.7714670923968, 8675.00415891326, 4022.3232371961285, 3907.684088201144, 2201.386943095121, 1564.2664099672807, 2514.1606260414787, 2273.5414796274686, 3060.7448855939283, 5091.928170945695, 2778.912032758742, 5724.23915723758, 2258.2462668672115, 2435.819494084594, 2056.5354220657173, 2287.473876041013, 2699.9257881257504, 1871.23804229442, 2294.046006192038, 427.64311523897067, 427.64311523923095, 427.64311523951665, 233.17106836945564, 234.16343820624257, 234.16343940179038, 214.31920492504213, 214.31920492508084, 214.3192049250972, 214.3192049251239, 214.3192049251976, 214.31920492526697, 214.31920492526928, 189.51413565614317, 190.5063369155431, 190.50633691549552, 181.5764470143541, 181.57644701435407, 167.6856395253366, 166.69348916859937, 141.88830997841734, 141.88830997919777, 138.9116648916661, 138.91182641699965, 120.0598011267835, 120.05980112679288, 115.09876333096763, 115.09876333096774, 115.09876333096766, 115.0987633309677, 214.31903435232394, 214.31903430684417, 469.3123238236497, 357.3411429497805, 285.9494899283653, 582.5840324104751, 1376.8819225875711, 752.257913463428, 467.3144245835192, 467.3144245912727, 467.3144246096803, 358.50923325247254, 886.2576693667864, 6742.336165193163, 1119.5920283018202, 380.43961497402586, 351.6932283704483, 993.765867737433, 2850.6562060929814, 1017.7249807628916, 1113.6859133228195, 1113.5638364422468, 620.9517933966124, 1700.8127143512868, 592.9903523357294, 2294.046006192038, 2109.0820442827626, 952.8419185560546, 1407.653859478879, 1451.1079793772305, 661.8593500990047, 3852.8491738798016, 4022.3232371961285, 2287.473876041013, 5724.23915723758, 5863.756540508579, 5091.928170945695, 1156.4135405018048, 8675.00415891326, 1425.835483174179, 3615.24887680625, 3775.8168350445267, 1381.4946974002182, 2114.131823337846, 2514.1606260414787, 1853.0719764018006, 3907.684088201144, 621.5572251235833, 621.557225523318, 210.50920294488478, 192.55086836750613, 192.55086836750613, 192.55085754116567, 192.55085755445415, 189.55778331934258, 168.60641937157783, 167.60869844963185, 167.6086984460308, 167.6082171158011, 144.66197037681982, 144.66196075946715, 144.66194996709072, 143.66426768270057, 120.7175066007196, 120.71752873348197, 120.71752873363309, 120.71752873377311, 119.71983598607486, 120.71751232650382, 96.77307237875235, 96.77307237875235, 96.77307237354084, 96.77307235580764, 96.7730612986323, 118.72122235855518, 95.77538699227293, 95.77538699227293, 118.72113834541743, 96.77308348412676, 527.6380704749707, 263.40213339422576, 569.3899207928005, 569.390940554052, 335.25545458118256, 639.0477349128876, 639.0477357296253, 407.9608138315149, 429.94221617187844, 453.93942509657666, 453.9310194205193, 288.38295224208036, 8675.00415891326, 1570.956487824984, 6742.336165193163, 1427.4148552549204, 618.5000556142277, 430.0054047436793, 5091.928170945695, 1662.0669887189106, 1377.5501128650676, 2732.0776766622234, 1111.8778974191528, 5724.23915723758, 3907.684088201144, 1278.8330077408898, 2308.61971488777, 904.6498524888185, 2111.2735066032037, 4721.728641811653, 2258.2462668672115, 1302.4601862421482, 2118.9850030956723, 4022.3232371961285, 1585.3337681942617, 5863.756540508579, 2435.819494084594], \"loglift\": [30.0, 29.0, 28.0, 27.0, 26.0, 25.0, 24.0, 23.0, 22.0, 21.0, 20.0, 19.0, 18.0, 17.0, 16.0, 15.0, 14.0, 13.0, 12.0, 11.0, 10.0, 9.0, 8.0, 7.0, 6.0, 5.0, 4.0, 3.0, 2.0, 1.0, 1.2118, 1.2115, 1.2105, 1.2102, 1.2089, 1.2089, 1.2087, 1.208, 1.2071, 1.2069, 1.2068, 1.2068, 1.2068, 1.2056, 1.2056, 1.2056, 1.2056, 1.2056, 1.2055, 1.2055, 1.2055, 1.2054, 1.2054, 1.2053, 1.2053, 1.2053, 1.2031, 1.2031, 1.2031, 1.2031, 1.191, 1.1369, 1.0772, 1.1067, 1.0853, 0.8645, 1.0835, 1.0915, 0.7843, 1.038, 1.0005, 0.7949, 0.6517, 0.9336, 0.8879, 0.8376, 0.7377, 0.6665, 0.7964, 0.6245, 0.5084, 0.8513, 0.5877, 0.3518, 0.5226, 0.4604, 0.4344, 0.6244, 0.5636, 0.7037, 0.5099, 0.3395, 0.1733, 0.5699, 0.593, 0.2799, 0.4276, -0.0655, 0.3136, 0.2569, -0.478, 0.4607, -0.0757, -0.2126, 0.11, -0.0803, -0.5161, -0.1352, -0.2535, 0.1456, 1.2786, 1.2786, 1.2774, 1.2774, 1.2765, 1.2765, 1.2765, 1.2765, 1.2765, 1.2765, 1.2765, 1.2761, 1.2761, 1.2755, 1.2755, 1.2748, 1.2748, 1.2748, 1.2747, 1.2746, 1.2738, 1.2738, 1.2738, 1.2737, 1.2737, 1.2737, 1.2737, 1.2737, 1.2735, 1.2722, 1.2525, 1.1909, 1.188, 1.0817, 1.0607, 1.0483, 1.1706, 0.98, 0.9408, 1.1061, 0.5038, 0.783, 0.532, 0.8867, 0.7065, 0.4436, 0.6023, 0.4314, 0.5183, 0.5088, 0.3949, 0.2786, 0.5371, 0.1518, 0.7137, -0.0893, 0.1934, 0.1987, 0.3934, 0.5265, 0.2437, 0.2882, 0.1304, -0.146, 0.1386, -0.3223, 0.1981, 0.1139, 0.2146, 0.1156, -0.0161, 0.2595, 0.0828, 1.5184, 1.5184, 1.5184, 1.517, 1.5169, 1.5169, 1.5167, 1.5167, 1.5167, 1.5167, 1.5167, 1.5167, 1.5167, 1.5162, 1.5162, 1.5162, 1.5161, 1.5161, 1.5156, 1.5156, 1.5148, 1.5148, 1.5148, 1.5146, 1.5139, 1.5139, 1.5137, 1.5137, 1.5137, 1.5137, 1.5114, 1.5114, 1.4651, 1.4414, 1.4165, 1.3219, 1.1843, 1.2191, 1.2907, 1.2907, 1.2907, 1.3397, 1.108, 0.4113, 0.9389, 1.292, 1.3154, 0.9671, 0.5898, 0.9368, 0.8827, 0.879, 1.1065, 0.6865, 1.0923, 0.4939, 0.527, 0.8495, 0.6378, 0.6213, 1.006, 0.1206, 0.0768, 0.3637, -0.1544, -0.2237, -0.1878, 0.7183, -0.6164, 0.5611, -0.0907, -0.1666, 0.5806, 0.2122, 0.0533, 0.2515, -0.4445, 1.5764, 1.5764, 1.5759, 1.5755, 1.5755, 1.5755, 1.5755, 1.5754, 1.575, 1.5749, 1.5749, 1.5744, 1.5742, 1.5742, 1.5742, 1.5741, 1.5732, 1.5732, 1.5732, 1.5732, 1.5732, 1.5731, 1.5717, 1.5717, 1.5717, 1.5717, 1.5716, 1.5716, 1.5716, 1.5716, 1.5715, 1.5715, 1.5305, 1.5278, 1.4823, 1.4811, 1.4877, 1.4384, 1.4384, 1.4226, 1.4078, 1.3986, 1.3964, 1.4426, 0.7661, 1.0851, 0.6673, 1.0346, 1.22, 1.3054, 0.4954, 0.8055, 0.8559, 0.5652, 0.8914, 0.2237, 0.3415, 0.741, 0.442, 0.8516, 0.3896, -0.0651, 0.1919, 0.5401, 0.1876, -0.3112, 0.2971, -0.8666, -0.106], \"logprob\": [30.0, 29.0, 28.0, 27.0, 26.0, 25.0, 24.0, 23.0, 22.0, 21.0, 20.0, 19.0, 18.0, 17.0, 16.0, 15.0, 14.0, 13.0, 12.0, 11.0, 10.0, 9.0, 8.0, 7.0, 6.0, 5.0, 4.0, 3.0, 2.0, 1.0, -5.6356, -5.8012, -6.1526, -6.3324, -6.6803, -6.6803, -6.6983, -6.8552, -7.0161, -7.0164, -7.0165, -7.0165, -7.0165, -7.2387, -7.2388, -7.2388, -7.2388, -7.2388, -7.2492, -7.2492, -7.2597, -7.2598, -7.2598, -7.239, -7.2391, -7.2391, -7.5255, -7.5255, -7.5255, -7.5255, -6.8514, -6.0651, -5.6737, -6.2501, -6.1204, -4.8542, -6.3712, -6.443, -4.5752, -6.1673, -6.0768, -5.1021, -4.4655, -5.8666, -5.6639, -5.5155, -5.1036, -4.899, -5.4676, -4.9477, -4.6071, -5.7746, -4.9059, -4.2065, -4.7665, -4.628, -4.5574, -5.1109, -4.9557, -5.3412, -4.8532, -4.4424, -4.1925, -5.0614, -5.2182, -4.784, -5.0563, -4.4072, -5.0077, -4.9632, -4.428, -5.2023, -4.7943, -4.6955, -4.9529, -4.8419, -4.7181, -4.9605, -5.001, -5.0429, -5.4842, -5.4842, -6.0824, -6.0824, -6.3698, -6.3698, -6.3698, -6.3698, -6.3698, -6.3698, -6.3698, -6.4874, -6.4874, -6.6208, -6.6327, -6.7747, -6.7816, -6.7816, -6.7886, -6.7887, -6.9566, -6.9566, -6.9566, -6.965, -6.965, -6.965, -6.965, -6.9567, -6.9736, -7.1793, -6.114, -6.1793, -6.1851, -5.5926, -5.6105, -5.5845, -6.3702, -5.3452, -5.3538, -6.1857, -3.8378, -5.0271, -4.2933, -5.5311, -5.0397, -4.318, -4.9858, -4.6325, -4.8772, -4.8904, -4.7105, -4.5033, -5.0014, -4.4065, -5.398, -4.0393, -4.5252, -4.5488, -4.928, -5.1366, -4.9448, -5.0009, -4.8614, -4.6288, -4.9498, -4.6881, -5.0977, -5.1062, -5.1748, -5.1674, -5.1334, -5.2243, -5.1973, -5.4415, -5.4415, -5.4415, -6.0495, -6.0453, -6.0453, -6.1341, -6.1341, -6.1341, -6.1341, -6.1341, -6.1341, -6.1341, -6.2576, -6.2524, -6.2524, -6.3005, -6.3005, -6.3805, -6.3865, -6.5484, -6.5484, -6.5696, -6.5698, -6.7163, -6.7163, -6.7588, -6.7588, -6.7588, -6.7588, -6.1394, -6.1394, -5.4019, -5.6981, -5.9459, -5.3288, -4.6063, -5.176, -5.5805, -5.5805, -5.5805, -5.7965, -5.1232, -3.7908, -5.0586, -5.7849, -5.84, -5.1496, -4.4731, -5.1561, -5.1201, -5.1239, -5.4804, -4.8928, -5.5408, -4.7862, -4.8372, -5.3093, -5.1308, -5.1169, -5.5171, -4.641, -4.6418, -4.9194, -4.5202, -4.5654, -4.6706, -5.2469, -4.5664, -5.1946, -4.916, -4.9485, -5.2067, -5.1497, -5.1352, -5.2422, -5.192, -5.0096, -5.0096, -6.0928, -6.1823, -6.1823, -6.1824, -6.1824, -6.1981, -6.3157, -6.3217, -6.3217, -6.3222, -6.4696, -6.4696, -6.4696, -6.4766, -6.6516, -6.6516, -6.6516, -6.6516, -6.6599, -6.6517, -6.8742, -6.8742, -6.8742, -6.8742, -6.8742, -6.6699, -6.8846, -6.8846, -6.67, -6.8744, -5.2193, -5.9168, -5.1914, -5.1925, -5.7156, -5.1198, -5.1198, -5.5845, -5.5468, -5.5016, -5.5039, -5.9113, -3.1839, -4.5737, -3.5347, -4.72, -5.3709, -5.649, -3.9874, -4.7969, -4.9342, -4.5402, -5.113, -4.142, -4.406, -5.1235, -4.8318, -5.3591, -4.9736, -4.6234, -5.104, -5.3061, -5.1719, -5.0298, -5.3526, -5.2083, -5.3262]}, \"token.table\": {\"Topic\": [1, 1, 2, 3, 4, 1, 2, 3, 1, 2, 3, 1, 2, 3, 4, 1, 2, 3, 4, 4, 2, 1, 2, 3, 4, 1, 2, 3, 1, 2, 3, 4, 1, 3, 1, 1, 3, 4, 4, 2, 4, 1, 2, 3, 4, 1, 4, 3, 1, 4, 2, 1, 2, 3, 4, 1, 2, 3, 4, 1, 2, 3, 4, 1, 1, 2, 3, 4, 1, 2, 3, 4, 3, 4, 2, 4, 1, 2, 3, 4, 1, 1, 1, 2, 3, 2, 4, 1, 2, 3, 4, 1, 1, 2, 3, 4, 1, 3, 4, 1, 2, 3, 4, 1, 2, 3, 4, 4, 1, 2, 1, 2, 1, 2, 3, 4, 1, 2, 3, 4, 3, 2, 2, 3, 4, 1, 2, 3, 4, 4, 2, 1, 2, 3, 4, 2, 1, 2, 3, 4, 1, 4, 1, 4, 1, 1, 2, 1, 2, 3, 4, 4, 1, 1, 2, 3, 4, 1, 2, 4, 1, 2, 1, 1, 2, 3, 4, 1, 3, 4, 4, 4, 3, 1, 3, 1, 2, 3, 4, 1, 1, 2, 3, 4, 1, 2, 3, 4, 1, 2, 3, 4, 4, 2, 3, 4, 3, 1, 1, 2, 3, 4, 1, 2, 3, 4, 1, 1, 2, 3, 2, 3, 3, 1, 2, 3, 4, 1, 2, 3, 4, 2, 1, 1, 2, 3, 4, 2, 1, 2, 3, 4, 2, 1, 2, 2, 1, 3, 4, 1, 2, 3, 4, 1, 2, 4, 1, 2, 3, 4, 1, 1, 1, 2, 3, 4, 1, 3, 4, 2, 3, 4, 1, 3, 4, 4, 1, 2, 3, 4, 3, 1, 2, 3, 4, 1, 2, 3, 4, 1, 2, 3, 4, 1, 2, 3, 4, 2, 1, 2, 3, 2, 3, 4, 4, 3, 3, 4, 4, 1, 3, 4, 1, 2, 3, 4, 1, 2, 4, 1, 2, 3, 2, 3, 1, 2, 3, 4, 1, 2, 3, 4, 4, 1, 2, 3, 4, 2, 3, 1, 2, 3, 1, 2, 3, 4, 1, 2, 3, 4, 3, 3, 1, 3, 4, 1, 3, 1, 2, 3, 4, 1, 3, 3, 4, 2, 1, 4, 4, 4, 2, 2, 4, 2, 4, 4, 2, 3, 4, 3, 1, 1, 3, 4, 2, 3, 1, 2, 3, 4, 1, 1, 1, 3, 1, 2, 1, 2, 3, 4, 1, 3, 4, 3, 2, 3, 2, 2, 1, 2, 3, 4, 1, 2, 3, 4, 1, 2, 3, 4, 1, 2, 3, 4, 1, 4, 1, 1, 2, 3, 4, 2, 1, 2, 3, 4, 1, 2, 3, 4, 1, 2, 3, 4, 4, 2, 3, 1, 2, 3, 4, 1, 2, 1, 2, 3, 4, 1, 2, 3, 4, 3, 4, 1, 2, 3, 4, 1, 2, 3, 4, 1, 2, 3, 4, 1, 3, 3, 1, 4, 1, 2, 3, 4, 1, 2, 3, 4, 3, 3, 2, 3, 2, 3, 2, 1, 3, 4, 1, 2, 3, 4, 3, 1, 2, 4, 1, 2, 3, 4, 2, 1, 3, 1, 4, 1, 3, 4, 4, 4, 1, 1, 3, 2, 1, 2, 3, 4, 1, 2, 3, 4, 3, 2, 1, 2, 3, 4, 2, 3, 4, 1, 3, 4, 4, 3, 3, 4, 3, 2, 3, 4, 3, 4, 2, 3, 4, 1, 2, 3, 4, 2, 2, 3, 4], \"Freq\": [0.9949141372477838, 0.28445899531960805, 0.34475457723350783, 0.22173213994143806, 0.14928019070618745, 0.1985878442391912, 0.13878582296261657, 0.662335594138666, 0.7055709006394796, 0.2865536991102867, 0.008110010352177927, 0.47114736678096647, 0.4705080894854699, 0.0006392772954965624, 0.05753495659469061, 0.8727158276797442, 0.10434645765736071, 0.020869291531472142, 0.9920114929227749, 0.9920114928693523, 0.9975728709165216, 0.422514750706756, 0.323610295278157, 0.0607828237858842, 0.19314960032308845, 0.6583529135862906, 0.3400816891040838, 0.001615589971990897, 0.09484667535654857, 0.18778368610860288, 0.10757777271984369, 0.6098195637018358, 0.18482016358737985, 0.8160521069165849, 0.9905357380288689, 0.1589911719947961, 0.5755882935507808, 0.26565613548497574, 0.9964033435154008, 0.89457960499382, 0.10032668467220413, 0.3025708320029155, 0.2453863924616946, 0.3908809791425224, 0.061527561531693344, 0.8847002231998594, 0.11214509871547514, 0.9985106097923636, 0.0016088623212467228, 0.9974946391729681, 0.9987300472807569, 0.10928848009791808, 0.21227185557480244, 0.09807940521608033, 0.5800696251351037, 0.07284972584490979, 0.25092683346580036, 0.174479590295216, 0.5027530462630193, 0.49496192545952267, 0.1463571626478397, 0.054469494189325465, 0.3040818719091039, 0.9871561312274262, 0.600302057852852, 0.18636522544885734, 0.0936508670597273, 0.11893660116585368, 0.2811379179778981, 0.5077089826773856, 0.09667822917805358, 0.11387865032016127, 0.9973421518481029, 0.995424085530212, 0.9984292277433926, 0.9920114931045563, 0.2754626952289299, 0.33736721789319307, 0.2361819137793172, 0.15090781227794267, 0.9871561312274262, 0.9905355635061979, 0.037221276770737825, 0.22199832931118632, 0.7404375414750346, 0.8207214870329916, 0.17925822628986113, 0.3351248799119252, 0.14560183292403212, 0.05775940479631026, 0.46147357790385385, 0.9966419220083184, 0.5221148869837218, 0.12014732818183206, 0.2873569738542435, 0.07031663907415978, 0.8398241176782185, 0.026898281349124437, 0.13150270881794168, 0.534787645930663, 0.11710284476988281, 0.28115475633690756, 0.06691591129707589, 0.34365346074183, 0.35479037845105593, 0.23069329540539513, 0.07079897686579367, 0.9963683361801966, 0.9925758502891494, 0.9987300472807569, 0.686984258874988, 0.3122655722159037, 0.5545804092307952, 0.32024097980365623, 0.0034360620150606894, 0.1216365953331484, 0.5375203179307085, 0.34475441081073027, 0.06969228949722289, 0.04819147677999456, 0.998510609792488, 0.9987300472807569, 0.9163598848533134, 0.08106260519856234, 0.0035244610955896673, 0.33240837462699213, 0.5676974349804353, 0.031038131365773363, 0.06908487303994716, 0.9920113790292363, 0.9912081561576188, 0.31440326523154577, 0.33875844774948244, 0.09697790857142045, 0.24975132618393214, 0.9872182313564457, 0.331853416058388, 0.17995856494498208, 0.39429517933364494, 0.09401344133578012, 0.9905376345271453, 0.9920116064506144, 0.9925758489585124, 0.9971391582037078, 0.9925740855185898, 0.8972091262094619, 0.09737153307699586, 0.01925437389238237, 0.6079938832940741, 0.11626679619630893, 0.25623128333708844, 0.9971391021386893, 0.9948079108052662, 0.5014203656344968, 0.3707871651139305, 0.08576927306905865, 0.04178503046954139, 0.04555771756806531, 0.003796476464005442, 0.9491191160013606, 0.20569281899199196, 0.7924231551330838, 0.9903189745709691, 0.4065618735530619, 0.4120129824722091, 0.13718624113187117, 0.04406313042977319, 0.10466522780821855, 0.05349556087975615, 0.8419736103683358, 0.9939250763744919, 0.9963683361587897, 0.9968253205532296, 0.9802497110564594, 0.02070950093781252, 0.4173931281233389, 0.3673377339511872, 0.18512550543033876, 0.030192142516535934, 0.9904282508530222, 0.2597331558621554, 0.4732730880512757, 0.19970962570018766, 0.0674918956659914, 0.296313346565913, 0.1517483502110282, 0.5288744276585539, 0.023345900032465877, 0.27434242875788617, 0.43318591636415515, 0.2468303214273886, 0.045680480095920496, 0.9971391581348924, 0.9912079641596332, 0.8340092032983585, 0.16457037790837176, 0.9911727229526756, 0.9903189267546467, 0.7229425607955934, 0.19433939806333156, 0.08084518959434593, 0.003109430369013305, 0.45584793635025367, 0.36018934243853573, 0.08229845509723219, 0.10153705499009166, 0.9925758485925325, 0.9925757277091733, 0.004665941143465042, 0.9891795224145888, 0.0532694300382235, 0.9460650774788494, 0.9950315121132708, 0.29889166921972066, 0.4666819188798912, 0.13305815716491656, 0.10126117107771224, 0.24018406366735123, 0.24018406366735123, 0.18126728598934194, 0.33818230387177334, 0.9975604240549858, 0.9905357897077371, 0.4590385845657842, 0.31658960031618855, 0.10193597038044461, 0.12219247731502014, 0.9975728708952053, 0.3534094129247153, 0.20142414883944473, 0.18744849237183364, 0.2578508618274245, 0.9910664207021537, 0.08483437256890465, 0.9119695051157249, 0.9959439405251725, 0.8782844605433888, 0.0038353033211501694, 0.11889440295565525, 0.016704409886343887, 0.1917375743475994, 0.714658231659234, 0.076985541215324, 0.5551317811882646, 0.2399149969173257, 0.20489090977611027, 0.4710476562658592, 0.3195495177724087, 0.10003915083415497, 0.10939533040857234, 0.9903189745702767, 0.9871561312743485, 0.5703860479324677, 0.2737112268974634, 0.12778128995889698, 0.028519302396623387, 0.0017562625759850326, 0.0913256539512217, 0.9062314892082769, 0.05789864822076819, 0.07198210319338748, 0.8684797233115229, 0.15131789325300912, 0.558107554335774, 0.2908447818369526, 0.9940561346699242, 0.23797084810696012, 0.6744773752060127, 0.08294983848299753, 0.0054393336710162315, 0.9972870854495202, 0.2545720523580086, 0.3020863566508561, 0.35831888191486827, 0.0850026544688556, 0.33190174210858836, 0.46250213175486726, 0.10310557077337805, 0.10212361295648874, 0.3680132584037002, 0.47582082336552034, 0.14054494070938858, 0.01523981284800599, 0.38426492696732373, 0.3115994439831183, 0.11864590159568007, 0.1855638322534512, 0.9913470746139277, 0.6965711129932476, 0.25451636820907125, 0.05023349372547459, 0.20328925237668377, 0.7938980277026283, 0.9940561346710771, 0.9975810893882008, 0.9984961403174784, 0.9234872796228144, 0.07555805015095754, 0.9940563169259882, 0.8072463751789385, 0.13147335100634178, 0.06047774146291721, 0.31825891069153894, 0.20800213819152177, 0.04144403505319795, 0.43242549781921635, 0.3703090196481744, 0.14591280774196724, 0.4830598256306037, 0.042912264341611044, 0.13731924589315533, 0.8204824942116031, 0.99134722337141, 0.9911727229527529, 0.004465912469548325, 0.21079106856268096, 0.5591322411874503, 0.22508198846523558, 0.009445428275908226, 0.23193773877507975, 0.5111026189297007, 0.2476801192349268, 0.9940561346723216, 0.18432267820380052, 0.2542938262148743, 0.11804028923120184, 0.44334272693672094, 0.9912079641596867, 0.9950315070330253, 0.755398518286477, 0.10164993253986894, 0.14151265118295478, 0.3344162327984686, 0.23697670810754282, 0.27056023360781334, 0.1579844720716952, 0.3058202509231194, 0.22142334446681666, 0.3703032805751259, 0.1024142235649516, 0.9984961403181455, 0.9985106097927445, 0.12777035171082654, 0.03744993067386295, 0.8349131603172976, 0.0979193913128309, 0.9022572485253704, 0.22093499613259604, 0.16481324470341568, 0.41345391559218936, 0.20104374246149415, 0.9949141372477839, 0.9904537346955832, 0.993435933854455, 0.9939873289990259, 0.9987300472807569, 0.0016088623202120342, 0.9974946385314611, 0.9954241597929427, 0.991904110057676, 0.9975604240549857, 0.30072753965282156, 0.6984639630646179, 0.9987300472807569, 0.9940562697766404, 0.9970574496621809, 0.09501542732853611, 0.6618871293564126, 0.24478550769385576, 0.9959111613416782, 0.9937927917011771, 0.08089012199497372, 0.06373161126876717, 0.8554743204922978, 0.994012622589646, 0.9973421518478539, 0.11749299909809496, 0.41250657315748607, 0.1072443885848655, 0.36272760780751434, 0.9973291293418607, 0.9905378350686687, 0.8790636880561625, 0.11960050177634864, 0.024581647974644856, 0.9727309269966607, 0.2763292151510226, 0.29736951072089746, 0.3829333793717217, 0.04278193432541213, 0.08351840251183672, 0.0029828000897084545, 0.912736827450787, 0.9958397345207769, 0.9960870340153423, 0.9985106097920202, 0.9939145751162534, 0.9939141909794535, 0.6587929437728174, 0.24952511498651844, 0.002332010420434752, 0.08978240118673794, 0.24108222525093168, 0.28484555913406256, 0.12054111262546584, 0.35394556000216404, 0.15933559157532703, 0.36629547435951565, 0.4344981630043051, 0.03998088644694553, 0.2783198771513888, 0.46011460082993066, 0.17480261892167492, 0.08663388332898621, 0.9264581434128618, 0.07149516219263242, 0.9904283606217319, 0.3525916350582544, 0.18712479894983527, 0.1394772806987198, 0.3205378500529586, 0.9913472238791937, 0.49399922999784296, 0.1593665180606814, 0.1882077904707351, 0.1582572383526024, 0.09079796830676778, 0.3311963986808768, 0.44880138620202364, 0.12884664074008, 0.202844770780917, 0.5633805106278208, 0.11809455833135579, 0.11601053671374363, 0.9971391021386893, 0.0046659411424749015, 0.9891795222046791, 0.6211290257057064, 0.19863904881117303, 0.1100154731877266, 0.07028766342549199, 0.15641004467122407, 0.8407039901078294, 0.1903727732805349, 0.16015487275981508, 0.5983144303102526, 0.0528813259112597, 0.990535277441402, 0.9912081561576188, 0.9985106097916863, 0.9920114928693523, 0.998510609791697, 0.993925779726612, 0.23057135112853114, 0.339075516365487, 0.14023651544776367, 0.2899415547487523, 0.21638637817618425, 0.20811683506117085, 0.4072749984144105, 0.16814737667193935, 0.21071940518002147, 0.7412364958685461, 0.04710198468729891, 0.0024790518256473113, 0.9983577759369099, 0.9904537346955828, 0.9904537346955838, 0.12483400880708141, 0.8738380616495699, 0.21761978891862274, 0.27060547665533086, 0.23402012083712764, 0.2775440786208522, 0.17738658688872058, 0.0910663581519017, 0.3298559943482563, 0.401641201751384, 0.9949776429055079, 0.9904537346955835, 0.20328925238005668, 0.7938980277158003, 0.20328925236867618, 0.7938980276713564, 0.9940126994435459, 0.18836972537190097, 0.048836595466789146, 0.7604555579828595, 0.38038543578655737, 0.0711407876089363, 0.06315559716303529, 0.48491883798744334, 0.9937393716273877, 0.08535823272383641, 0.712921577538521, 0.20197440982541573, 0.3932856132939833, 0.4280492523262193, 0.1464286613782063, 0.03230560394914863, 0.9987300472807569, 0.9905357897339111, 0.9968253205532294, 0.998731808061993, 0.9953762498259645, 0.23617864678532066, 0.5271363713421415, 0.2370766644537059, 0.9954240193528714, 0.991904110057676, 0.9871561310284617, 0.9905355635292734, 0.9984961403187532, 0.9987300472807569, 0.6512551990617806, 0.0061350127447848905, 0.09391288740093794, 0.24870397819243364, 0.2452487024555386, 0.31213471221614003, 0.31475769299106554, 0.12808889450886418, 0.9934370890135318, 0.9941094083704919, 0.5257672186108698, 0.11952069869481494, 0.29601499469493026, 0.05883143200003844, 0.8024176671807016, 0.08935218564675934, 0.1068722220480847, 0.12556973980928918, 0.039653602045038684, 0.8327256429458124, 0.9963711975088854, 0.9985106097925642, 0.09132581751288615, 0.9079893779646566, 0.9937393716328536, 0.998429227743393, 0.047380963199822615, 0.9514097410524381, 0.7964470262138369, 0.20239742910384634, 0.05789864814677057, 0.07198210310139044, 0.8684797222015586, 0.5786864131852811, 0.28354474553867987, 0.11654906718461074, 0.021454305899654712, 0.9913472236513947, 0.1450276546005422, 0.6526244457024399, 0.2023641692100589], \"Term\": [\"acer\", \"acetate\", \"acetate\", \"acetate\", \"acetate\", \"acetyl\", \"acetyl\", \"acetyl\", \"acrylate\", \"acrylate\", \"acrylate\", \"acrylates\", \"acrylates\", \"acrylates\", \"acrylates\", \"acryloyldimethyl\", \"acryloyldimethyl\", \"acryloyldimethyl\", \"aging\", \"aha\", \"alchemilla\", \"alcohol\", \"alcohol\", \"alcohol\", \"alcohol\", \"alkyl\", \"alkyl\", \"alkyl\", \"aloe\", \"aloe\", \"aloe\", \"aloe\", \"amygdalus\", \"amygdalus\", \"anisate\", \"annuus\", \"annuus\", \"annuus\", \"anti\", \"apricot\", \"apricot\", \"aurantium\", \"aurantium\", \"aurantium\", \"aurantium\", \"avocado\", \"avocado\", \"aware\", \"azadirachta\", \"azadirachta\", \"baptisia\", \"barbadensis\", \"barbadensis\", \"barbadensis\", \"barbadensis\", \"bark\", \"bark\", \"bark\", \"bark\", \"benzoate\", \"benzoate\", \"benzoate\", \"benzoate\", \"benzotriazolyl\", \"benzyl\", \"benzyl\", \"benzyl\", \"benzyl\", \"betaine\", \"betaine\", \"betaine\", \"betaine\", \"biennis\", \"blueberry\", \"boutique\", \"brassica\", \"butylene\", \"butylene\", \"butylene\", \"butylene\", \"butylphenol\", \"cacao\", \"caffeine\", \"caffeine\", \"caffeine\", \"calendula\", \"calendula\", \"camellia\", \"camellia\", \"camellia\", \"camellia\", \"cane\", \"capric\", \"capric\", \"capric\", \"capric\", \"caprylate\", \"caprylate\", \"caprylate\", \"caprylic\", \"caprylic\", \"caprylic\", \"caprylic\", \"caprylyl\", \"caprylyl\", \"caprylyl\", \"caprylyl\", \"carota\", \"caryophyllus\", \"cataria\", \"ceramide\", \"ceramide\", \"cetearyl\", \"cetearyl\", \"cetearyl\", \"cetearyl\", \"cetyl\", \"cetyl\", \"cetyl\", \"cetyl\", \"change\", \"chickweed\", \"chitosan\", \"chitosan\", \"chitosan\", \"chlorphenesin\", \"chlorphenesin\", \"chlorphenesin\", \"chlorphenesin\", \"chromium\", \"cimicifuga\", \"citric\", \"citric\", \"citric\", \"citric\", \"citronnellol\", \"citrus\", \"citrus\", \"citrus\", \"citrus\", \"cladosiphon\", \"clay\", \"clove\", \"coccinia\", \"cocoa\", \"cocos\", \"cocos\", \"cocoyl\", \"cocoyl\", \"cocoyl\", \"cocoyl\", \"cold\", \"colloidal\", \"copolymer\", \"copolymer\", \"copolymer\", \"copolymer\", \"corallina\", \"corallina\", \"corallina\", \"corn\", \"corn\", \"cotton\", \"crosspolymer\", \"crosspolymer\", \"crosspolymer\", \"crosspolymer\", \"curcuma\", \"curcuma\", \"curcuma\", \"currant\", \"daucus\", \"declustered\", \"dextrin\", \"dextrin\", \"dimethicone\", \"dimethicone\", \"dimethicone\", \"dimethicone\", \"dipeptide\", \"disodium\", \"disodium\", \"disodium\", \"disodium\", \"dulcis\", \"dulcis\", \"dulcis\", \"dulcis\", \"edta\", \"edta\", \"edta\", \"edta\", \"eggplant\", \"esculenta\", \"essential\", \"essential\", \"estee\", \"ester\", \"ethylhexyl\", \"ethylhexyl\", \"ethylhexyl\", \"ethylhexyl\", \"ethylhexylglycerin\", \"ethylhexylglycerin\", \"ethylhexylglycerin\", \"ethylhexylglycerin\", \"eugenia\", \"eugenol\", \"evening\", \"evening\", \"extrait\", \"extrait\", \"faex\", \"ferment\", \"ferment\", \"ferment\", \"ferment\", \"flower\", \"flower\", \"flower\", \"flower\", \"formula\", \"fragaria\", \"fragrance\", \"fragrance\", \"fragrance\", \"fragrance\", \"fragrances\", \"fruit\", \"fruit\", \"fruit\", \"fruit\", \"galactomyces\", \"gallate\", \"gallate\", \"ginseng\", \"glucan\", \"glucan\", \"glucan\", \"gluconate\", \"gluconate\", \"gluconate\", \"gluconate\", \"glucoside\", \"glucoside\", \"glucoside\", \"glyceryl\", \"glyceryl\", \"glyceryl\", \"glyceryl\", \"gossypium\", \"grapevine\", \"gum\", \"gum\", \"gum\", \"gum\", \"hamamelis\", \"hamamelis\", \"hamamelis\", \"hazel\", \"hazel\", \"hazel\", \"helianthus\", \"helianthus\", \"helianthus\", \"henna\", \"hexanediol\", \"hexanediol\", \"hexanediol\", \"hexanediol\", \"hordeum\", \"hyaluronate\", \"hyaluronate\", \"hyaluronate\", \"hyaluronate\", \"hydrogenated\", \"hydrogenated\", \"hydrogenated\", \"hydrogenated\", \"hydrolyzed\", \"hydrolyzed\", \"hydrolyzed\", \"hydrolyzed\", \"hydroxide\", \"hydroxide\", \"hydroxide\", \"hydroxide\", \"hydroxydecanoic\", \"hydroxyethyl\", \"hydroxyethyl\", \"hydroxyethyl\", \"indicum\", \"indicum\", \"inermis\", \"info\", \"ingredient\", \"ingredients\", \"ingredients\", \"isoflavones\", \"isononanoate\", \"isononanoate\", \"isononanoate\", \"juice\", \"juice\", \"juice\", \"juice\", \"lactic\", \"lactic\", \"lactic\", \"laminaria\", \"laminaria\", \"laminaria\", \"lappa\", \"lauder\", \"lavandula\", \"lavandula\", \"lavandula\", \"lavandula\", \"lavender\", \"lavender\", \"lavender\", \"lavender\", \"lawsonia\", \"leaf\", \"leaf\", \"leaf\", \"leaf\", \"lentil\", \"levure\", \"limon\", \"limon\", \"limon\", \"limonene\", \"limonene\", \"limonene\", \"limonene\", \"linalool\", \"linalool\", \"linalool\", \"linalool\", \"list\", \"lists\", \"longa\", \"longa\", \"longa\", \"lysate\", \"lysate\", \"magnesium\", \"magnesium\", \"magnesium\", \"magnesium\", \"maple\", \"marin\", \"maris\", \"martini\", \"media\", \"melia\", \"melia\", \"melongena\", \"mimosa\", \"napiers\", \"natural\", \"natural\", \"nepeta\", \"nigella\", \"nigrum\", \"nobilis\", \"nobilis\", \"nobilis\", \"nylon\", \"oatmeal\", \"ocimum\", \"ocimum\", \"ocimum\", \"octenylsuccinate\", \"oenothera\", \"officinalis\", \"officinalis\", \"officinalis\", \"officinalis\", \"officinarum\", \"okamuranus\", \"oleate\", \"oleate\", \"olivate\", \"olivate\", \"orange\", \"orange\", \"orange\", \"orange\", \"organic\", \"organic\", \"organic\", \"orge\", \"original\", \"package\", \"panax\", \"papaya\", \"parfum\", \"parfum\", \"parfum\", \"parfum\", \"pca\", \"pca\", \"pca\", \"pca\", \"peel\", \"peel\", \"peel\", \"peel\", \"peg\", \"peg\", \"peg\", \"peg\", \"plant\", \"plant\", \"polymethyl\", \"polysorbate\", \"polysorbate\", \"polysorbate\", \"polysorbate\", \"poncirus\", \"potassium\", \"potassium\", \"potassium\", \"potassium\", \"powder\", \"powder\", \"powder\", \"powder\", \"ppg\", \"ppg\", \"ppg\", \"ppg\", \"pressed\", \"primrose\", \"primrose\", \"propanediol\", \"propanediol\", \"propanediol\", \"propanediol\", \"propyl\", \"propyl\", \"prunus\", \"prunus\", \"prunus\", \"prunus\", \"quinoa\", \"racemosa\", \"receive\", \"reduces\", \"refer\", \"ribes\", \"root\", \"root\", \"root\", \"root\", \"rosa\", \"rosa\", \"rosa\", \"rosa\", \"saccharomyces\", \"saccharomyces\", \"saccharomyces\", \"saccharomyces\", \"saccharum\", \"sal\", \"salt\", \"sanctum\", \"sanctum\", \"sativa\", \"sativa\", \"sativa\", \"sativa\", \"seed\", \"seed\", \"seed\", \"seed\", \"seedcake\", \"sel\", \"sesame\", \"sesame\", \"sesamum\", \"sesamum\", \"silver\", \"simmondsia\", \"simmondsia\", \"simmondsia\", \"sinensis\", \"sinensis\", \"sinensis\", \"sinensis\", \"spearmint\", \"starch\", \"starch\", \"starch\", \"stearate\", \"stearate\", \"stearate\", \"stearate\", \"stellaria\", \"strawberry\", \"structuree\", \"sugar\", \"sulfite\", \"sunflower\", \"sunflower\", \"sunflower\", \"supports\", \"tenuiflora\", \"tetra\", \"theobroma\", \"time\", \"tinctoria\", \"tocopherol\", \"tocopherol\", \"tocopherol\", \"tocopherol\", \"tocopheryl\", \"tocopheryl\", \"tocopheryl\", \"tocopheryl\", \"tourmaline\", \"trifoliata\", \"triglyceride\", \"triglyceride\", \"triglyceride\", \"triglyceride\", \"trisodium\", \"trisodium\", \"trisodium\", \"turmeric\", \"turmeric\", \"turmeric\", \"ubiquinone\", \"vary\", \"virginiana\", \"virginiana\", \"viridis\", \"visit\", \"vitamin\", \"vitamin\", \"vulgare\", \"vulgare\", \"witch\", \"witch\", \"witch\", \"xanthan\", \"xanthan\", \"xanthan\", \"xanthan\", \"xylitol\", \"yellow\", \"yellow\", \"yellow\"]}, \"R\": 30, \"lambda.step\": 0.01, \"plot.opts\": {\"xlab\": \"PC1\", \"ylab\": \"PC2\"}, \"topic.order\": [4, 2, 1, 3]};\n",
       "\n",
       "function LDAvis_load_lib(url, callback){\n",
       "  var s = document.createElement('script');\n",
       "  s.src = url;\n",
       "  s.async = true;\n",
       "  s.onreadystatechange = s.onload = callback;\n",
       "  s.onerror = function(){console.warn(\"failed to load library \" + url);};\n",
       "  document.getElementsByTagName(\"head\")[0].appendChild(s);\n",
       "}\n",
       "\n",
       "if(typeof(LDAvis) !== \"undefined\"){\n",
       "   // already loaded: just create the visualization\n",
       "   !function(LDAvis){\n",
       "       new LDAvis(\"#\" + \"ldavis_el182551296825122977118035\", ldavis_el182551296825122977118035_data);\n",
       "   }(LDAvis);\n",
       "}else if(typeof define === \"function\" && define.amd){\n",
       "   // require.js is available: use it to load d3/LDAvis\n",
       "   require.config({paths: {d3: \"https://cdnjs.cloudflare.com/ajax/libs/d3/3.5.5/d3.min\"}});\n",
       "   require([\"d3\"], function(d3){\n",
       "      window.d3 = d3;\n",
       "      LDAvis_load_lib(\"https://cdn.rawgit.com/bmabey/pyLDAvis/files/ldavis.v1.0.0.js\", function(){\n",
       "        new LDAvis(\"#\" + \"ldavis_el182551296825122977118035\", ldavis_el182551296825122977118035_data);\n",
       "      });\n",
       "    });\n",
       "}else{\n",
       "    // require.js not available: dynamically load d3 & LDAvis\n",
       "    LDAvis_load_lib(\"https://cdnjs.cloudflare.com/ajax/libs/d3/3.5.5/d3.min.js\", function(){\n",
       "         LDAvis_load_lib(\"https://cdn.rawgit.com/bmabey/pyLDAvis/files/ldavis.v1.0.0.js\", function(){\n",
       "                 new LDAvis(\"#\" + \"ldavis_el182551296825122977118035\", ldavis_el182551296825122977118035_data);\n",
       "            })\n",
       "         });\n",
       "}\n",
       "</script>"
      ],
      "text/plain": [
       "PreparedData(topic_coordinates=              x         y  topics  cluster       Freq\n",
       "topic                                                \n",
       "3     -0.045307  0.098513       1        1  29.719774\n",
       "1     -0.054946  0.090008       2        1  27.803118\n",
       "0     -0.100708 -0.156776       3        1  21.867311\n",
       "2      0.200961 -0.031746       4        1  20.609796, topic_info=     Category         Freq         Term        Total  loglift  logprob\n",
       "1079  Default  8675.000000         leaf  8675.000000  30.0000  30.0000\n",
       "1761  Default  6742.000000         seed  6742.000000  29.0000  29.0000\n",
       "807   Default  1376.000000    gluconate  1376.000000  28.0000  28.0000\n",
       "166   Default   621.000000  azadirachta   621.000000  27.0000  27.0000\n",
       "1193  Default   621.000000        melia   621.000000  26.0000  26.0000\n",
       "...       ...          ...          ...          ...      ...      ...\n",
       "1961   Topic4   526.856395   tocopherol  2118.985003   0.1876  -5.1719\n",
       "287    Topic4   607.304202     butylene  4022.323237  -0.3112  -5.0298\n",
       "1741   Topic4   439.746965       sativa  1585.333768   0.2971  -5.3526\n",
       "1441   Topic4   508.025958          peg  5863.756541  -0.8666  -5.2083\n",
       "935    Topic4   451.529209    hydroxide  2435.819494  -0.1060  -5.3262\n",
       "\n",
       "[329 rows x 6 columns], token_table=      Topic      Freq     Term\n",
       "term                          \n",
       "8         1  0.994914     acer\n",
       "12        1  0.284459  acetate\n",
       "12        2  0.344755  acetate\n",
       "12        3  0.221732  acetate\n",
       "12        4  0.149280  acetate\n",
       "...     ...       ...      ...\n",
       "2087      4  0.021454  xanthan\n",
       "2091      2  0.991347  xylitol\n",
       "2094      2  0.145028   yellow\n",
       "2094      3  0.652624   yellow\n",
       "2094      4  0.202364   yellow\n",
       "\n",
       "[555 rows x 3 columns], R=30, lambda_step=0.01, plot_opts={'xlab': 'PC1', 'ylab': 'PC2'}, topic_order=[4, 2, 1, 3])"
      ]
     },
     "execution_count": 55,
     "metadata": {},
     "output_type": "execute_result"
    }
   ],
   "source": [
    "pyLDAvis.sklearn.prepare(lda_tf, dtm_tf, tf_vectorizer)"
   ]
  },
  {
   "cell_type": "markdown",
   "metadata": {},
   "source": [
    "## Quality and effectiveness check\n",
    "\n",
    "What makes a user give a five star rating to a product? Probably visible results of using it. If a woman buys a cream that erases her wrinkes after a week of using it, it is expected that she will go to the website and write a positive review. But what makes a high quality product? Define not the package -- it's ingredients that work! Can we predict whether or not the product will get a 5 star rating just using its ingredient list?"
   ]
  },
  {
   "cell_type": "code",
   "execution_count": null,
   "metadata": {},
   "outputs": [],
   "source": [
    "X1 = df.Ingredients\n",
    "y1 = df.Good_Stuff\n",
    "X_train1, X_test1, y_train1, y_test1 = train_test_split(X1, y1, test_size=0.25, random_state = 42)"
   ]
  },
  {
   "cell_type": "code",
   "execution_count": null,
   "metadata": {},
   "outputs": [],
   "source": [
    "cat = ['1', '0']"
   ]
  },
  {
   "cell_type": "code",
   "execution_count": 1,
   "metadata": {},
   "outputs": [
    {
     "ename": "NameError",
     "evalue": "name 'Pipeline' is not defined",
     "output_type": "error",
     "traceback": [
      "\u001b[1;31m---------------------------------------------------------------------------\u001b[0m",
      "\u001b[1;31mNameError\u001b[0m                                 Traceback (most recent call last)",
      "\u001b[1;32mc:\\Users\\ganas\\OneDrive\\Desktop\\Skincare_recomm\\final_project\\Jupyter_Notebook_and_CSV\\Skincare_Recommendations_Final_Project.ipynb Cell 53\u001b[0m line \u001b[0;36m2\n\u001b[0;32m      <a href='vscode-notebook-cell:/c%3A/Users/ganas/OneDrive/Desktop/Skincare_recomm/final_project/Jupyter_Notebook_and_CSV/Skincare_Recommendations_Final_Project.ipynb#Y103sZmlsZQ%3D%3D?line=0'>1</a>\u001b[0m \u001b[39m#Naive Bayes\u001b[39;00m\n\u001b[1;32m----> <a href='vscode-notebook-cell:/c%3A/Users/ganas/OneDrive/Desktop/Skincare_recomm/final_project/Jupyter_Notebook_and_CSV/Skincare_Recommendations_Final_Project.ipynb#Y103sZmlsZQ%3D%3D?line=1'>2</a>\u001b[0m nb \u001b[39m=\u001b[39m Pipeline([(\u001b[39m'\u001b[39m\u001b[39mvect\u001b[39m\u001b[39m'\u001b[39m, CountVectorizer()),\n\u001b[0;32m      <a href='vscode-notebook-cell:/c%3A/Users/ganas/OneDrive/Desktop/Skincare_recomm/final_project/Jupyter_Notebook_and_CSV/Skincare_Recommendations_Final_Project.ipynb#Y103sZmlsZQ%3D%3D?line=2'>3</a>\u001b[0m                (\u001b[39m'\u001b[39m\u001b[39mtfidf\u001b[39m\u001b[39m'\u001b[39m, TfidfTransformer()),\n\u001b[0;32m      <a href='vscode-notebook-cell:/c%3A/Users/ganas/OneDrive/Desktop/Skincare_recomm/final_project/Jupyter_Notebook_and_CSV/Skincare_Recommendations_Final_Project.ipynb#Y103sZmlsZQ%3D%3D?line=3'>4</a>\u001b[0m                (\u001b[39m'\u001b[39m\u001b[39mclf\u001b[39m\u001b[39m'\u001b[39m, MultinomialNB()),\n\u001b[0;32m      <a href='vscode-notebook-cell:/c%3A/Users/ganas/OneDrive/Desktop/Skincare_recomm/final_project/Jupyter_Notebook_and_CSV/Skincare_Recommendations_Final_Project.ipynb#Y103sZmlsZQ%3D%3D?line=4'>5</a>\u001b[0m               ])\n\u001b[0;32m      <a href='vscode-notebook-cell:/c%3A/Users/ganas/OneDrive/Desktop/Skincare_recomm/final_project/Jupyter_Notebook_and_CSV/Skincare_Recommendations_Final_Project.ipynb#Y103sZmlsZQ%3D%3D?line=5'>6</a>\u001b[0m nb\u001b[39m.\u001b[39mfit(X_train1, y_train1)\n\u001b[0;32m      <a href='vscode-notebook-cell:/c%3A/Users/ganas/OneDrive/Desktop/Skincare_recomm/final_project/Jupyter_Notebook_and_CSV/Skincare_Recommendations_Final_Project.ipynb#Y103sZmlsZQ%3D%3D?line=7'>8</a>\u001b[0m y_pred1 \u001b[39m=\u001b[39m nb\u001b[39m.\u001b[39mpredict(X_test1)\n",
      "\u001b[1;31mNameError\u001b[0m: name 'Pipeline' is not defined"
     ]
    }
   ],
   "source": [
    "#Naive Bayes\n",
    "nb = Pipeline([('vect', CountVectorizer()),\n",
    "               ('tfidf', TfidfTransformer()),\n",
    "               ('clf', MultinomialNB()),\n",
    "              ])\n",
    "nb.fit(X_train1, y_train1)\n",
    "\n",
    "y_pred1 = nb.predict(X_test1)\n",
    "\n",
    "print('accuracy %s' % accuracy_score(y_pred1, y_test1))\n",
    "print(classification_report(y_test1, y_pred1, target_names=cat))"
   ]
  },
  {
   "cell_type": "code",
   "execution_count": null,
   "metadata": {},
   "outputs": [
    {
     "name": "stdout",
     "output_type": "stream",
     "text": [
      "accuracy 0.5991678224687933\n",
      "              precision    recall  f1-score   support\n",
      "\n",
      "           1       0.49      0.26      0.34       856\n",
      "           0       0.63      0.82      0.71      1307\n",
      "\n",
      "   micro avg       0.60      0.60      0.60      2163\n",
      "   macro avg       0.56      0.54      0.53      2163\n",
      "weighted avg       0.57      0.60      0.56      2163\n",
      "\n"
     ]
    }
   ],
   "source": [
    "#Logistic Regression\n",
    "logreg = Pipeline([('vect', CountVectorizer()),\n",
    "                ('tfidf', TfidfTransformer()),\n",
    "                ('clf', LogisticRegression(n_jobs=1, C=1e5)),\n",
    "               ])\n",
    "logreg.fit(X_train1, y_train1)\n",
    "\n",
    "\n",
    "y_pred1 = logreg.predict(X_test1)\n",
    "\n",
    "print('accuracy %s' % accuracy_score(y_pred1, y_test1))\n",
    "print(classification_report(y_test1, y_pred1, target_names=cat))"
   ]
  },
  {
   "cell_type": "code",
   "execution_count": null,
   "metadata": {},
   "outputs": [
    {
     "name": "stdout",
     "output_type": "stream",
     "text": [
      "accuracy 0.6093388811835414\n",
      "              precision    recall  f1-score   support\n",
      "\n",
      "           1       0.58      0.04      0.08       856\n",
      "           0       0.61      0.98      0.75      1307\n",
      "\n",
      "   micro avg       0.61      0.61      0.61      2163\n",
      "   macro avg       0.60      0.51      0.42      2163\n",
      "weighted avg       0.60      0.61      0.49      2163\n",
      "\n"
     ]
    }
   ],
   "source": [
    "#SVG with SGD\n",
    "sgd = Pipeline([('vect', CountVectorizer()),\n",
    "                ('tfidf', TfidfTransformer()),\n",
    "                ('clf', SGDClassifier(loss='hinge', penalty='l2',alpha=1e-3, random_state=42, max_iter=5, tol=None)),\n",
    "               ])\n",
    "sgd.fit(X_train1, y_train1)\n",
    "\n",
    "y_pred1 = sgd.predict(X_test1)\n",
    "\n",
    "print('accuracy %s' % accuracy_score(y_pred1, y_test1))\n",
    "print(classification_report(y_test1, y_pred1, target_names=cat))"
   ]
  },
  {
   "cell_type": "markdown",
   "metadata": {},
   "source": [
    "Surprisingly, none of the models could predict the quality/effectiveness with good accuracy. This can be easily explained by the fact that a lot of people remove one star from the rating because of the high price. We want to keep this in mind when we are recommending the products."
   ]
  },
  {
   "cell_type": "markdown",
   "metadata": {},
   "source": [
    "# Modeling recommenders"
   ]
  },
  {
   "cell_type": "markdown",
   "metadata": {},
   "source": [
    "We begin the modeling process with SVD from Surprise."
   ]
  },
  {
   "cell_type": "code",
   "execution_count": null,
   "metadata": {},
   "outputs": [],
   "source": [
    "from surprise import Dataset, Reader\n",
    "from surprise import SVD\n",
    "from surprise import accuracy\n",
    "from surprise.model_selection import cross_validate \n",
    "from surprise.model_selection import train_test_split as tts\n",
    "from surprise.model_selection import RandomizedSearchCV"
   ]
  },
  {
   "cell_type": "code",
   "execution_count": null,
   "metadata": {},
   "outputs": [],
   "source": [
    "data = df[['User_id', 'Product_id', 'Rating']]\n",
    "reader = Reader(line_format='user item rating', sep=',')\n",
    "data = Dataset.load_from_df(data, reader=reader)\n",
    "\n",
    "trainset, testset = tts(data, test_size=.2)"
   ]
  },
  {
   "cell_type": "code",
   "execution_count": null,
   "metadata": {},
   "outputs": [
    {
     "data": {
      "text/plain": [
       "<surprise.prediction_algorithms.matrix_factorization.SVD at 0x131c40610>"
      ]
     },
     "execution_count": 139,
     "metadata": {},
     "output_type": "execute_result"
    }
   ],
   "source": [
    "svd = SVD()\n",
    "svd.fit(trainset)"
   ]
  },
  {
   "cell_type": "code",
   "execution_count": null,
   "metadata": {},
   "outputs": [
    {
     "name": "stdout",
     "output_type": "stream",
     "text": [
      "RMSE: 0.1155\n",
      "MAE:  0.0664\n"
     ]
    },
    {
     "data": {
      "text/plain": [
       "0.06636878490542372"
      ]
     },
     "execution_count": 140,
     "metadata": {},
     "output_type": "execute_result"
    }
   ],
   "source": [
    "predictions = svd.test(testset)\n",
    "accuracy.rmse(predictions)\n",
    "accuracy.mae(predictions)"
   ]
  },
  {
   "cell_type": "markdown",
   "metadata": {},
   "source": [
    "Predictions are off by 0.1 stars!"
   ]
  },
  {
   "cell_type": "markdown",
   "metadata": {},
   "source": [
    "## Recommender that uses the customer features only to recommend the products"
   ]
  },
  {
   "cell_type": "code",
   "execution_count": null,
   "metadata": {},
   "outputs": [],
   "source": [
    "def recommend_products_by_user_features(skintone, skintype, eyecolor, haircolor, percentile=0.85):\n",
    "    ddf = df[(df['Skin_Tone'] == skintone) & (df['Hair_Color'] == haircolor) & (df['Skin_Type'] == skintype) & (df['Eye_Color'] == eyecolor)]\n",
    "    \n",
    "    recommendations = ddf[(ddf['Rating_Stars'].notnull())][['Rating_Stars', 'Product_Url', 'Product']]\n",
    "    recommendations = recommendations.sort_values('Rating_Stars', ascending=False).head(10)\n",
    "    \n",
    "    print('Based on your features, these are the top products for you:')\n",
    "    return recommendations"
   ]
  },
  {
   "cell_type": "code",
   "execution_count": null,
   "metadata": {},
   "outputs": [
    {
     "name": "stdout",
     "output_type": "stream",
     "text": [
      "Based on your features, these are the top products for you:\n"
     ]
    },
    {
     "data": {
      "text/html": [
       "<div>\n",
       "<style scoped>\n",
       "    .dataframe tbody tr th:only-of-type {\n",
       "        vertical-align: middle;\n",
       "    }\n",
       "\n",
       "    .dataframe tbody tr th {\n",
       "        vertical-align: top;\n",
       "    }\n",
       "\n",
       "    .dataframe thead th {\n",
       "        text-align: right;\n",
       "    }\n",
       "</style>\n",
       "<table border=\"1\" class=\"dataframe\">\n",
       "  <thead>\n",
       "    <tr style=\"text-align: right;\">\n",
       "      <th></th>\n",
       "      <th>Rating_Stars</th>\n",
       "      <th>Product_Url</th>\n",
       "      <th>Product</th>\n",
       "    </tr>\n",
       "  </thead>\n",
       "  <tbody>\n",
       "    <tr>\n",
       "      <td>349</td>\n",
       "      <td>5</td>\n",
       "      <td>https://www.sephora.com/product/bi-facil-doubl...</td>\n",
       "      <td>Bi-Facil Double-Action Eye Makeup Remover</td>\n",
       "    </tr>\n",
       "    <tr>\n",
       "      <td>1977</td>\n",
       "      <td>5</td>\n",
       "      <td>https://www.sephora.com/product/ultimate-mirac...</td>\n",
       "      <td>Ultimate Miracle Worker Multi-Rejuvenating Cre...</td>\n",
       "    </tr>\n",
       "    <tr>\n",
       "      <td>2800</td>\n",
       "      <td>5</td>\n",
       "      <td>https://www.sephora.com/product/aqua-bomb-slee...</td>\n",
       "      <td>Aqua Bomb Sleeping Mask</td>\n",
       "    </tr>\n",
       "    <tr>\n",
       "      <td>2918</td>\n",
       "      <td>5</td>\n",
       "      <td>https://www.sephora.com/product/vitamin-c-anti...</td>\n",
       "      <td>Vitamin Nectar Antioxidant Face Mist</td>\n",
       "    </tr>\n",
       "    <tr>\n",
       "      <td>2944</td>\n",
       "      <td>5</td>\n",
       "      <td>https://www.sephora.com/product/peat-miracle-r...</td>\n",
       "      <td>Peat Miracle Revital Cream</td>\n",
       "    </tr>\n",
       "    <tr>\n",
       "      <td>2998</td>\n",
       "      <td>5</td>\n",
       "      <td>https://www.sephora.com/product/gold-camellia-...</td>\n",
       "      <td>Gold Camellia Beauty Oil</td>\n",
       "    </tr>\n",
       "    <tr>\n",
       "      <td>350</td>\n",
       "      <td>5</td>\n",
       "      <td>https://www.sephora.com/product/bi-facil-doubl...</td>\n",
       "      <td>Bi-Facil Double-Action Eye Makeup Remover</td>\n",
       "    </tr>\n",
       "    <tr>\n",
       "      <td>3525</td>\n",
       "      <td>5</td>\n",
       "      <td>https://www.sephora.com/product/the-cleansing-...</td>\n",
       "      <td>The Cleansing Foam</td>\n",
       "    </tr>\n",
       "    <tr>\n",
       "      <td>3999</td>\n",
       "      <td>5</td>\n",
       "      <td>https://www.sephora.com/product/clean-bee-ultr...</td>\n",
       "      <td>Clean Bee Ultra Gentle Facial Cleanser</td>\n",
       "    </tr>\n",
       "    <tr>\n",
       "      <td>4069</td>\n",
       "      <td>5</td>\n",
       "      <td>https://www.sephora.com/product/time-release-a...</td>\n",
       "      <td>Time Release Acne Cleanser</td>\n",
       "    </tr>\n",
       "  </tbody>\n",
       "</table>\n",
       "</div>"
      ],
      "text/plain": [
       "      Rating_Stars                                        Product_Url  \\\n",
       "349              5  https://www.sephora.com/product/bi-facil-doubl...   \n",
       "1977             5  https://www.sephora.com/product/ultimate-mirac...   \n",
       "2800             5  https://www.sephora.com/product/aqua-bomb-slee...   \n",
       "2918             5  https://www.sephora.com/product/vitamin-c-anti...   \n",
       "2944             5  https://www.sephora.com/product/peat-miracle-r...   \n",
       "2998             5  https://www.sephora.com/product/gold-camellia-...   \n",
       "350              5  https://www.sephora.com/product/bi-facil-doubl...   \n",
       "3525             5  https://www.sephora.com/product/the-cleansing-...   \n",
       "3999             5  https://www.sephora.com/product/clean-bee-ultr...   \n",
       "4069             5  https://www.sephora.com/product/time-release-a...   \n",
       "\n",
       "                                                Product  \n",
       "349           Bi-Facil Double-Action Eye Makeup Remover  \n",
       "1977  Ultimate Miracle Worker Multi-Rejuvenating Cre...  \n",
       "2800                            Aqua Bomb Sleeping Mask  \n",
       "2918               Vitamin Nectar Antioxidant Face Mist  \n",
       "2944                         Peat Miracle Revital Cream  \n",
       "2998                           Gold Camellia Beauty Oil  \n",
       "350           Bi-Facil Double-Action Eye Makeup Remover  \n",
       "3525                                 The Cleansing Foam  \n",
       "3999             Clean Bee Ultra Gentle Facial Cleanser  \n",
       "4069                         Time Release Acne Cleanser  "
      ]
     },
     "execution_count": 70,
     "metadata": {},
     "output_type": "execute_result"
    }
   ],
   "source": [
    "recommend_products_by_user_features('Light', 'Combination', 'Green', 'Brunette')"
   ]
  },
  {
   "cell_type": "markdown",
   "metadata": {},
   "source": [
    "## Collaborative filtering with Lightfm"
   ]
  },
  {
   "cell_type": "code",
   "execution_count": 2,
   "metadata": {},
   "outputs": [
    {
     "name": "stderr",
     "output_type": "stream",
     "text": [
      "C:\\Users\\ganas\\AppData\\Roaming\\Python\\Python38\\site-packages\\lightfm\\_lightfm_fast.py:9: UserWarning: LightFM was compiled without OpenMP support. Only a single thread will be used.\n",
      "  warnings.warn(\n"
     ]
    }
   ],
   "source": [
    "from scipy import sparse\n",
    "from lightfm import LightFM\n",
    "from sklearn.metrics.pairwise import cosine_similarity\n",
    "from lightfm.evaluation import auc_score\n",
    "from lightfm.evaluation import precision_at_k,recall_at_k\n",
    "import pandas as pd"
   ]
  },
  {
   "cell_type": "code",
   "execution_count": 3,
   "metadata": {},
   "outputs": [],
   "source": [
    "def create_interaction_matrix(df, user_col, item_col, rating_col, norm= False, threshold = None):\n",
    "    interactions = df.groupby([user_col, item_col])[rating_col].sum().unstack().reset_index().fillna(0).set_index(user_col)\n",
    "    if norm:\n",
    "        interactions = interactions.applymap(lambda x: 1 if x > threshold else 0)\n",
    "    return interactions"
   ]
  },
  {
   "cell_type": "code",
   "execution_count": 4,
   "metadata": {},
   "outputs": [
    {
     "data": {
      "text/html": [
       "<div>\n",
       "<style scoped>\n",
       "    .dataframe tbody tr th:only-of-type {\n",
       "        vertical-align: middle;\n",
       "    }\n",
       "\n",
       "    .dataframe tbody tr th {\n",
       "        vertical-align: top;\n",
       "    }\n",
       "\n",
       "    .dataframe thead th {\n",
       "        text-align: right;\n",
       "    }\n",
       "</style>\n",
       "<table border=\"1\" class=\"dataframe\">\n",
       "  <thead>\n",
       "    <tr style=\"text-align: right;\">\n",
       "      <th>Product_id</th>\n",
       "      <th>0</th>\n",
       "      <th>1</th>\n",
       "      <th>2</th>\n",
       "      <th>3</th>\n",
       "      <th>4</th>\n",
       "      <th>5</th>\n",
       "      <th>6</th>\n",
       "      <th>7</th>\n",
       "      <th>8</th>\n",
       "      <th>9</th>\n",
       "      <th>...</th>\n",
       "      <th>305</th>\n",
       "      <th>306</th>\n",
       "      <th>307</th>\n",
       "      <th>308</th>\n",
       "      <th>309</th>\n",
       "      <th>310</th>\n",
       "      <th>311</th>\n",
       "      <th>312</th>\n",
       "      <th>313</th>\n",
       "      <th>314</th>\n",
       "    </tr>\n",
       "    <tr>\n",
       "      <th>User_id</th>\n",
       "      <th></th>\n",
       "      <th></th>\n",
       "      <th></th>\n",
       "      <th></th>\n",
       "      <th></th>\n",
       "      <th></th>\n",
       "      <th></th>\n",
       "      <th></th>\n",
       "      <th></th>\n",
       "      <th></th>\n",
       "      <th></th>\n",
       "      <th></th>\n",
       "      <th></th>\n",
       "      <th></th>\n",
       "      <th></th>\n",
       "      <th></th>\n",
       "      <th></th>\n",
       "      <th></th>\n",
       "      <th></th>\n",
       "      <th></th>\n",
       "      <th></th>\n",
       "    </tr>\n",
       "  </thead>\n",
       "  <tbody>\n",
       "    <tr>\n",
       "      <th>0</th>\n",
       "      <td>0.0</td>\n",
       "      <td>0.0</td>\n",
       "      <td>0.0</td>\n",
       "      <td>0.0</td>\n",
       "      <td>0.0</td>\n",
       "      <td>0.0</td>\n",
       "      <td>0.0</td>\n",
       "      <td>0.0</td>\n",
       "      <td>0.0</td>\n",
       "      <td>0.0</td>\n",
       "      <td>...</td>\n",
       "      <td>0.0</td>\n",
       "      <td>0.0</td>\n",
       "      <td>0.0</td>\n",
       "      <td>0.0</td>\n",
       "      <td>0.0</td>\n",
       "      <td>0.0</td>\n",
       "      <td>0.0</td>\n",
       "      <td>0.0</td>\n",
       "      <td>0.0</td>\n",
       "      <td>0.0</td>\n",
       "    </tr>\n",
       "    <tr>\n",
       "      <th>1</th>\n",
       "      <td>0.0</td>\n",
       "      <td>0.0</td>\n",
       "      <td>0.0</td>\n",
       "      <td>0.0</td>\n",
       "      <td>0.0</td>\n",
       "      <td>0.0</td>\n",
       "      <td>0.0</td>\n",
       "      <td>0.0</td>\n",
       "      <td>0.0</td>\n",
       "      <td>0.0</td>\n",
       "      <td>...</td>\n",
       "      <td>0.0</td>\n",
       "      <td>0.0</td>\n",
       "      <td>0.0</td>\n",
       "      <td>0.0</td>\n",
       "      <td>0.0</td>\n",
       "      <td>0.0</td>\n",
       "      <td>0.0</td>\n",
       "      <td>0.0</td>\n",
       "      <td>0.0</td>\n",
       "      <td>0.0</td>\n",
       "    </tr>\n",
       "    <tr>\n",
       "      <th>2</th>\n",
       "      <td>0.0</td>\n",
       "      <td>0.0</td>\n",
       "      <td>0.0</td>\n",
       "      <td>0.0</td>\n",
       "      <td>0.0</td>\n",
       "      <td>0.0</td>\n",
       "      <td>0.0</td>\n",
       "      <td>0.0</td>\n",
       "      <td>0.0</td>\n",
       "      <td>0.0</td>\n",
       "      <td>...</td>\n",
       "      <td>0.0</td>\n",
       "      <td>0.0</td>\n",
       "      <td>0.0</td>\n",
       "      <td>0.0</td>\n",
       "      <td>0.0</td>\n",
       "      <td>0.0</td>\n",
       "      <td>0.0</td>\n",
       "      <td>0.0</td>\n",
       "      <td>0.0</td>\n",
       "      <td>0.0</td>\n",
       "    </tr>\n",
       "    <tr>\n",
       "      <th>3</th>\n",
       "      <td>0.0</td>\n",
       "      <td>0.0</td>\n",
       "      <td>0.0</td>\n",
       "      <td>0.0</td>\n",
       "      <td>0.0</td>\n",
       "      <td>0.0</td>\n",
       "      <td>0.0</td>\n",
       "      <td>0.0</td>\n",
       "      <td>0.0</td>\n",
       "      <td>0.0</td>\n",
       "      <td>...</td>\n",
       "      <td>0.0</td>\n",
       "      <td>0.0</td>\n",
       "      <td>0.0</td>\n",
       "      <td>0.0</td>\n",
       "      <td>0.0</td>\n",
       "      <td>0.0</td>\n",
       "      <td>0.0</td>\n",
       "      <td>0.0</td>\n",
       "      <td>0.0</td>\n",
       "      <td>0.0</td>\n",
       "    </tr>\n",
       "    <tr>\n",
       "      <th>4</th>\n",
       "      <td>0.0</td>\n",
       "      <td>0.0</td>\n",
       "      <td>0.0</td>\n",
       "      <td>0.0</td>\n",
       "      <td>0.0</td>\n",
       "      <td>0.0</td>\n",
       "      <td>0.0</td>\n",
       "      <td>0.0</td>\n",
       "      <td>0.0</td>\n",
       "      <td>0.0</td>\n",
       "      <td>...</td>\n",
       "      <td>0.0</td>\n",
       "      <td>0.0</td>\n",
       "      <td>0.0</td>\n",
       "      <td>0.0</td>\n",
       "      <td>0.0</td>\n",
       "      <td>0.0</td>\n",
       "      <td>0.0</td>\n",
       "      <td>0.0</td>\n",
       "      <td>0.0</td>\n",
       "      <td>0.0</td>\n",
       "    </tr>\n",
       "  </tbody>\n",
       "</table>\n",
       "<p>5 rows × 315 columns</p>\n",
       "</div>"
      ],
      "text/plain": [
       "Product_id  0    1    2    3    4    5    6    7    8    9    ...  305  306  \\\n",
       "User_id                                                       ...             \n",
       "0           0.0  0.0  0.0  0.0  0.0  0.0  0.0  0.0  0.0  0.0  ...  0.0  0.0   \n",
       "1           0.0  0.0  0.0  0.0  0.0  0.0  0.0  0.0  0.0  0.0  ...  0.0  0.0   \n",
       "2           0.0  0.0  0.0  0.0  0.0  0.0  0.0  0.0  0.0  0.0  ...  0.0  0.0   \n",
       "3           0.0  0.0  0.0  0.0  0.0  0.0  0.0  0.0  0.0  0.0  ...  0.0  0.0   \n",
       "4           0.0  0.0  0.0  0.0  0.0  0.0  0.0  0.0  0.0  0.0  ...  0.0  0.0   \n",
       "\n",
       "Product_id  307  308  309  310  311  312  313  314  \n",
       "User_id                                             \n",
       "0           0.0  0.0  0.0  0.0  0.0  0.0  0.0  0.0  \n",
       "1           0.0  0.0  0.0  0.0  0.0  0.0  0.0  0.0  \n",
       "2           0.0  0.0  0.0  0.0  0.0  0.0  0.0  0.0  \n",
       "3           0.0  0.0  0.0  0.0  0.0  0.0  0.0  0.0  \n",
       "4           0.0  0.0  0.0  0.0  0.0  0.0  0.0  0.0  \n",
       "\n",
       "[5 rows x 315 columns]"
      ]
     },
     "execution_count": 4,
     "metadata": {},
     "output_type": "execute_result"
    }
   ],
   "source": [
    "df = pd.read_csv('skindataall.csv', index_col=[0])\n",
    "interaction_matrix = create_interaction_matrix(df=df, user_col='User_id', item_col = 'Product_id', rating_col='Rating_Stars')\n",
    "interaction_matrix.head()"
   ]
  },
  {
   "cell_type": "code",
   "execution_count": 5,
   "metadata": {},
   "outputs": [],
   "source": [
    "def runMF(interactions, n_components=30, loss='warp', k=15, epoch=30,n_jobs = 4):\n",
    "    x = sparse.csr_matrix(interactions.values)\n",
    "    model = LightFM(no_components= n_components, loss=loss,k=k)\n",
    "    model.fit(x,epochs=epoch,num_threads = n_jobs)\n",
    "    train_auc = auc_score(model, x, num_threads=n_jobs).mean()\n",
    "    print('Collaborative filtering AUC: %s' % train_auc)\n",
    "    print(\"Train precision: %.4f\" % precision_at_k(model, x, k=k,num_threads=n_jobs).mean())\n",
    "\n",
    "    return model"
   ]
  },
  {
   "cell_type": "code",
   "execution_count": 12,
   "metadata": {},
   "outputs": [
    {
     "ename": "",
     "evalue": "",
     "output_type": "error",
     "traceback": [
      "\u001b[1;31mThe Kernel crashed while executing code in the the current cell or a previous cell. Please review the code in the cell(s) to identify a possible cause of the failure. Click <a href='https://aka.ms/vscodeJupyterKernelCrash'>here</a> for more info. View Jupyter <a href='command:jupyter.viewOutput'>log</a> for further details."
     ]
    }
   ],
   "source": [
    "mf_model = runMF(interactions = interaction_matrix,\n",
    "                 n_components = 30,\n",
    "                 loss = 'warp',\n",
    "                 epoch = 60,\n",
    "                 n_jobs = 4)"
   ]
  },
  {
   "cell_type": "code",
   "execution_count": 6,
   "metadata": {},
   "outputs": [],
   "source": [
    "def create_user_dict(interactions):\n",
    "    user_id = list(interactions.index)\n",
    "    user_dict = {}\n",
    "    counter = 0 \n",
    "    for i in user_id:\n",
    "        user_dict[i] = counter\n",
    "        counter += 1\n",
    "    return user_dict"
   ]
  },
  {
   "cell_type": "code",
   "execution_count": 7,
   "metadata": {},
   "outputs": [],
   "source": [
    "user_dict = create_user_dict(interaction_matrix)"
   ]
  },
  {
   "cell_type": "code",
   "execution_count": 8,
   "metadata": {},
   "outputs": [],
   "source": [
    "def create_item_dict(df, id_col, name_col):\n",
    "    item_dict ={}\n",
    "    for i in df.index:\n",
    "        item_dict[(df.loc[i, id_col])] = df.loc[i, name_col]\n",
    "    return item_dict"
   ]
  },
  {
   "cell_type": "code",
   "execution_count": 9,
   "metadata": {},
   "outputs": [],
   "source": [
    "product_dict = create_item_dict(df = df, id_col = 'Product_id', name_col = 'Product')"
   ]
  },
  {
   "cell_type": "code",
   "execution_count": 10,
   "metadata": {},
   "outputs": [],
   "source": [
    "def sample_recommendation_user(model, interactions, user_id, user_dict,\n",
    "                               item_dict, threshold = 0, nrec_items = 10, show = True):\n",
    "\n",
    "    n_users, n_items = interactions.shape\n",
    "    user_x = user_dict[user_id]\n",
    "    scores = pd.Series(model.predict(user_x,np.arange(n_items)))\n",
    "    scores.index = interactions.columns\n",
    "    scores = list(pd.Series(scores.sort_values(ascending=False).index))\n",
    "\n",
    "    known_items = list(pd.Series(interactions.loc[user_id,:] \\\n",
    "                                 [interactions.loc[user_id,:] > threshold].index).sort_values(ascending=False))\n",
    "    #print(scores)\n",
    "    scores = [x for x in scores if x not in known_items]\n",
    "    return_score_list = scores[0:nrec_items]\n",
    "    #print(return_score_list)\n",
    "    known_items = list(pd.Series(known_items).apply(lambda x: item_dict[x]))\n",
    "    scores = list(pd.Series(return_score_list).apply(lambda x: item_dict[x]))\n",
    "\n",
    "    if show == True:\n",
    "        print(scores)\n",
    "\n",
    "    return scores "
   ]
  },
  {
   "cell_type": "code",
   "execution_count": 11,
   "metadata": {},
   "outputs": [
    {
     "ename": "NameError",
     "evalue": "name 'mf_model' is not defined",
     "output_type": "error",
     "traceback": [
      "\u001b[1;31m---------------------------------------------------------------------------\u001b[0m",
      "\u001b[1;31mNameError\u001b[0m                                 Traceback (most recent call last)",
      "\u001b[1;32mc:\\Users\\ganas\\OneDrive\\Desktop\\Skincare_recomm\\final_project\\Jupyter_Notebook_and_CSV\\Skincare_Recommendations_Final_Project.ipynb Cell 78\u001b[0m line \u001b[0;36m1\n\u001b[1;32m----> <a href='vscode-notebook-cell:/c%3A/Users/ganas/OneDrive/Desktop/Skincare_recomm/final_project/Jupyter_Notebook_and_CSV/Skincare_Recommendations_Final_Project.ipynb#Y140sZmlsZQ%3D%3D?line=0'>1</a>\u001b[0m rec_list \u001b[39m=\u001b[39m sample_recommendation_user(model \u001b[39m=\u001b[39m mf_model, \n\u001b[0;32m      <a href='vscode-notebook-cell:/c%3A/Users/ganas/OneDrive/Desktop/Skincare_recomm/final_project/Jupyter_Notebook_and_CSV/Skincare_Recommendations_Final_Project.ipynb#Y140sZmlsZQ%3D%3D?line=1'>2</a>\u001b[0m                                       interactions \u001b[39m=\u001b[39m interaction_matrix, \n\u001b[0;32m      <a href='vscode-notebook-cell:/c%3A/Users/ganas/OneDrive/Desktop/Skincare_recomm/final_project/Jupyter_Notebook_and_CSV/Skincare_Recommendations_Final_Project.ipynb#Y140sZmlsZQ%3D%3D?line=2'>3</a>\u001b[0m                                       user_id \u001b[39m=\u001b[39m \u001b[39m4792\u001b[39m, \n\u001b[0;32m      <a href='vscode-notebook-cell:/c%3A/Users/ganas/OneDrive/Desktop/Skincare_recomm/final_project/Jupyter_Notebook_and_CSV/Skincare_Recommendations_Final_Project.ipynb#Y140sZmlsZQ%3D%3D?line=3'>4</a>\u001b[0m                                       user_dict \u001b[39m=\u001b[39m user_dict,\n\u001b[0;32m      <a href='vscode-notebook-cell:/c%3A/Users/ganas/OneDrive/Desktop/Skincare_recomm/final_project/Jupyter_Notebook_and_CSV/Skincare_Recommendations_Final_Project.ipynb#Y140sZmlsZQ%3D%3D?line=4'>5</a>\u001b[0m                                       item_dict \u001b[39m=\u001b[39m product_dict, \n\u001b[0;32m      <a href='vscode-notebook-cell:/c%3A/Users/ganas/OneDrive/Desktop/Skincare_recomm/final_project/Jupyter_Notebook_and_CSV/Skincare_Recommendations_Final_Project.ipynb#Y140sZmlsZQ%3D%3D?line=5'>6</a>\u001b[0m                                       threshold \u001b[39m=\u001b[39m \u001b[39m4\u001b[39m,\n\u001b[0;32m      <a href='vscode-notebook-cell:/c%3A/Users/ganas/OneDrive/Desktop/Skincare_recomm/final_project/Jupyter_Notebook_and_CSV/Skincare_Recommendations_Final_Project.ipynb#Y140sZmlsZQ%3D%3D?line=6'>7</a>\u001b[0m                                       nrec_items \u001b[39m=\u001b[39m \u001b[39m10\u001b[39m,\n\u001b[0;32m      <a href='vscode-notebook-cell:/c%3A/Users/ganas/OneDrive/Desktop/Skincare_recomm/final_project/Jupyter_Notebook_and_CSV/Skincare_Recommendations_Final_Project.ipynb#Y140sZmlsZQ%3D%3D?line=7'>8</a>\u001b[0m                                       show \u001b[39m=\u001b[39m \u001b[39mTrue\u001b[39;00m)\n",
      "\u001b[1;31mNameError\u001b[0m: name 'mf_model' is not defined"
     ]
    }
   ],
   "source": [
    "rec_list = sample_recommendation_user(model = mf_model, \n",
    "                                      interactions = interaction_matrix, \n",
    "                                      user_id = 4792, \n",
    "                                      user_dict = user_dict,\n",
    "                                      item_dict = product_dict, \n",
    "                                      threshold = 4,\n",
    "                                      nrec_items = 10,\n",
    "                                      show = True)"
   ]
  },
  {
   "cell_type": "markdown",
   "metadata": {},
   "source": [
    "## Content-based recommendations using Ingredients of the product"
   ]
  },
  {
   "cell_type": "code",
   "execution_count": null,
   "metadata": {},
   "outputs": [],
   "source": [
    "from sklearn.metrics.pairwise import linear_kernel, cosine_similarity"
   ]
  },
  {
   "cell_type": "code",
   "execution_count": null,
   "metadata": {},
   "outputs": [
    {
     "name": "stderr",
     "output_type": "stream",
     "text": [
      "/Users/agorina/opt/anaconda3/lib/python3.7/site-packages/ipykernel_launcher.py:2: SettingWithCopyWarning:\n",
      "\n",
      "\n",
      "A value is trying to be set on a copy of a slice from a DataFrame\n",
      "\n",
      "See the caveats in the documentation: http://pandas.pydata.org/pandas-docs/stable/user_guide/indexing.html#returning-a-view-versus-a-copy\n",
      "\n"
     ]
    }
   ],
   "source": [
    "df_cont = df[['Product', 'Product_id', 'Ingredients', 'Product_Url', 'Ing_Tfidf', 'Rating']]\n",
    "df_cont.drop_duplicates(inplace=True)"
   ]
  },
  {
   "cell_type": "code",
   "execution_count": null,
   "metadata": {},
   "outputs": [],
   "source": [
    "tf = TfidfVectorizer(analyzer='word', ngram_range=(1, 2), min_df=0, stop_words='english')\n",
    "tfidf_matrix = tf.fit_transform(df_cont['Ingredients'])"
   ]
  },
  {
   "cell_type": "code",
   "execution_count": null,
   "metadata": {},
   "outputs": [],
   "source": [
    "cosine_sim = linear_kernel(tfidf_matrix, tfidf_matrix)"
   ]
  },
  {
   "cell_type": "code",
   "execution_count": null,
   "metadata": {},
   "outputs": [],
   "source": [
    "df_cont = df_cont.reset_index(drop=True)\n",
    "titles = df_cont[['Product', 'Ing_Tfidf', 'Rating']]\n",
    "indices = pd.Series(df_cont.index, index=df_cont['Product'])"
   ]
  },
  {
   "cell_type": "code",
   "execution_count": null,
   "metadata": {},
   "outputs": [],
   "source": [
    "def content_recommendations(product):\n",
    "    idx = indices[product]\n",
    "    sim_scores = list(enumerate(cosine_sim[idx]))\n",
    "    sim_scores = sorted(sim_scores, key=lambda x: x[1], reverse=True)\n",
    "    sim_scores = sim_scores[1:11]\n",
    "    product_indices = [i[0] for i in sim_scores]\n",
    "    return titles.iloc[product_indices]"
   ]
  },
  {
   "cell_type": "code",
   "execution_count": null,
   "metadata": {},
   "outputs": [
    {
     "data": {
      "text/html": [
       "<div>\n",
       "<style scoped>\n",
       "    .dataframe tbody tr th:only-of-type {\n",
       "        vertical-align: middle;\n",
       "    }\n",
       "\n",
       "    .dataframe tbody tr th {\n",
       "        vertical-align: top;\n",
       "    }\n",
       "\n",
       "    .dataframe thead th {\n",
       "        text-align: right;\n",
       "    }\n",
       "</style>\n",
       "<table border=\"1\" class=\"dataframe\">\n",
       "  <thead>\n",
       "    <tr style=\"text-align: right;\">\n",
       "      <th></th>\n",
       "      <th>Product</th>\n",
       "      <th>Ing_Tfidf</th>\n",
       "      <th>Rating</th>\n",
       "    </tr>\n",
       "  </thead>\n",
       "  <tbody>\n",
       "    <tr>\n",
       "      <td>38</td>\n",
       "      <td>The Essence Plumping Skin Softener</td>\n",
       "      <td>saccharomyces, camellia, sinensis, leaf, clado...</td>\n",
       "      <td>4.4</td>\n",
       "    </tr>\n",
       "    <tr>\n",
       "      <td>90</td>\n",
       "      <td>Gold Camellia Beauty Oil</td>\n",
       "      <td>caprylic, capric, triglyceride, ethylhexyl, pa...</td>\n",
       "      <td>4.6</td>\n",
       "    </tr>\n",
       "    <tr>\n",
       "      <td>108</td>\n",
       "      <td>Purifying Cleansing Gel</td>\n",
       "      <td>hydrogenated, starch, hydrolysate, diglycerin,...</td>\n",
       "      <td>4.5</td>\n",
       "    </tr>\n",
       "    <tr>\n",
       "      <td>165</td>\n",
       "      <td>Clear Complexion Cleanser</td>\n",
       "      <td>hydrogenated, starch, hydrolysate, disodium, c...</td>\n",
       "      <td>4.4</td>\n",
       "    </tr>\n",
       "    <tr>\n",
       "      <td>43</td>\n",
       "      <td>Luminous Dewy Skin Mist</td>\n",
       "      <td>glycerin, squalane, olive, origin, cyclopentas...</td>\n",
       "      <td>4.0</td>\n",
       "    </tr>\n",
       "    <tr>\n",
       "      <td>115</td>\n",
       "      <td>EradiKate® Daily Cleanser Acne Treatment</td>\n",
       "      <td>sodium, cocoyl, isethionate, coco, glucoside, ...</td>\n",
       "      <td>4.3</td>\n",
       "    </tr>\n",
       "    <tr>\n",
       "      <td>135</td>\n",
       "      <td>Detoxifying Black Charcoal Cleanser</td>\n",
       "      <td>glycereth, glycerin, sodium, cocoyl, glutamate...</td>\n",
       "      <td>4.3</td>\n",
       "    </tr>\n",
       "    <tr>\n",
       "      <td>307</td>\n",
       "      <td>Breakout Fighters</td>\n",
       "      <td>sodium, cocoyl, isethionate, coco, glucoside, ...</td>\n",
       "      <td>4.0</td>\n",
       "    </tr>\n",
       "    <tr>\n",
       "      <td>217</td>\n",
       "      <td>United State™ Balancing Tonic</td>\n",
       "      <td>lavandula, angustifolia, lavender, flower, ext...</td>\n",
       "      <td>4.3</td>\n",
       "    </tr>\n",
       "    <tr>\n",
       "      <td>276</td>\n",
       "      <td>GenOptics Aura Essence Serum</td>\n",
       "      <td>galactomyces, ferment, filtrate, pitera, niaci...</td>\n",
       "      <td>4.1</td>\n",
       "    </tr>\n",
       "  </tbody>\n",
       "</table>\n",
       "</div>"
      ],
      "text/plain": [
       "                                      Product  \\\n",
       "38         The Essence Plumping Skin Softener   \n",
       "90                   Gold Camellia Beauty Oil   \n",
       "108                   Purifying Cleansing Gel   \n",
       "165                 Clear Complexion Cleanser   \n",
       "43                    Luminous Dewy Skin Mist   \n",
       "115  EradiKate® Daily Cleanser Acne Treatment   \n",
       "135       Detoxifying Black Charcoal Cleanser   \n",
       "307                         Breakout Fighters   \n",
       "217             United State™ Balancing Tonic   \n",
       "276              GenOptics Aura Essence Serum   \n",
       "\n",
       "                                             Ing_Tfidf  Rating  \n",
       "38   saccharomyces, camellia, sinensis, leaf, clado...     4.4  \n",
       "90   caprylic, capric, triglyceride, ethylhexyl, pa...     4.6  \n",
       "108  hydrogenated, starch, hydrolysate, diglycerin,...     4.5  \n",
       "165  hydrogenated, starch, hydrolysate, disodium, c...     4.4  \n",
       "43   glycerin, squalane, olive, origin, cyclopentas...     4.0  \n",
       "115  sodium, cocoyl, isethionate, coco, glucoside, ...     4.3  \n",
       "135  glycereth, glycerin, sodium, cocoyl, glutamate...     4.3  \n",
       "307  sodium, cocoyl, isethionate, coco, glucoside, ...     4.0  \n",
       "217  lavandula, angustifolia, lavender, flower, ext...     4.3  \n",
       "276  galactomyces, ferment, filtrate, pitera, niaci...     4.1  "
      ]
     },
     "execution_count": 91,
     "metadata": {},
     "output_type": "execute_result"
    }
   ],
   "source": [
    "content_recommendations('The Rice Polish Foaming Enzyme Powder')"
   ]
  },
  {
   "cell_type": "markdown",
   "metadata": {},
   "source": [
    "These recommendations actually make a lot of sense. I have tested it on the product that I used and loved, and it spits out the names that I also enjoy!"
   ]
  },
  {
   "cell_type": "code",
   "execution_count": null,
   "metadata": {},
   "outputs": [],
   "source": []
  }
 ],
 "metadata": {
  "kernelspec": {
   "display_name": "Python 3",
   "language": "python",
   "name": "python3"
  },
  "language_info": {
   "codemirror_mode": {
    "name": "ipython",
    "version": 3
   },
   "file_extension": ".py",
   "mimetype": "text/x-python",
   "name": "python",
   "nbconvert_exporter": "python",
   "pygments_lexer": "ipython3",
   "version": "3.8.6"
  }
 },
 "nbformat": 4,
 "nbformat_minor": 2
}
